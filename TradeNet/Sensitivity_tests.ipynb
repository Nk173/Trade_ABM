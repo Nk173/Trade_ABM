{
 "cells": [
  {
   "cell_type": "markdown",
   "metadata": {},
   "source": [
    "# 1. Sensitivity Analysis: 2x2 "
   ]
  },
  {
   "cell_type": "markdown",
   "metadata": {},
   "source": [
    "# 1.1 Net Exports"
   ]
  },
  {
   "cell_type": "code",
   "execution_count": 3,
   "metadata": {},
   "outputs": [
    {
     "name": "stderr",
     "output_type": "stream",
     "text": [
      "100%|██████████| 2000/2000 [00:05<00:00, 361.82it/s]\n",
      "100%|██████████| 2000/2000 [00:05<00:00, 361.71it/s]\n",
      "100%|██████████| 2000/2000 [00:05<00:00, 362.51it/s]\n",
      "100%|██████████| 2000/2000 [00:05<00:00, 361.82it/s]\n",
      "100%|██████████| 2000/2000 [00:05<00:00, 361.91it/s]\n",
      "100%|██████████| 2000/2000 [00:05<00:00, 361.83it/s]\n",
      "100%|██████████| 2000/2000 [00:05<00:00, 362.23it/s]\n",
      "100%|██████████| 2000/2000 [00:05<00:00, 361.67it/s]\n",
      "100%|██████████| 2000/2000 [00:05<00:00, 362.57it/s]\n",
      "100%|██████████| 2000/2000 [00:05<00:00, 362.09it/s]\n",
      "100%|██████████| 2000/2000 [00:05<00:00, 362.67it/s]\n",
      "100%|██████████| 2000/2000 [00:05<00:00, 362.45it/s]\n",
      "100%|██████████| 2000/2000 [00:05<00:00, 362.38it/s]\n",
      "100%|██████████| 2000/2000 [00:05<00:00, 361.83it/s]\n",
      "100%|██████████| 2000/2000 [00:05<00:00, 362.22it/s]\n",
      "100%|██████████| 2000/2000 [00:05<00:00, 362.05it/s]\n",
      "100%|██████████| 2000/2000 [00:05<00:00, 362.72it/s]\n",
      "100%|██████████| 2000/2000 [00:05<00:00, 362.18it/s]\n",
      "100%|██████████| 2000/2000 [00:05<00:00, 362.07it/s]\n",
      "100%|██████████| 2000/2000 [00:05<00:00, 361.74it/s]\n",
      "100%|██████████| 2000/2000 [00:05<00:00, 361.87it/s]\n",
      "100%|██████████| 2000/2000 [00:05<00:00, 362.27it/s]\n",
      "100%|██████████| 2000/2000 [00:05<00:00, 362.42it/s]\n",
      "100%|██████████| 2000/2000 [00:05<00:00, 361.87it/s]\n",
      "100%|██████████| 2000/2000 [00:05<00:00, 361.63it/s]\n",
      "100%|██████████| 2000/2000 [00:05<00:00, 361.28it/s]\n",
      "100%|██████████| 2000/2000 [00:05<00:00, 361.49it/s]\n",
      "100%|██████████| 2000/2000 [00:05<00:00, 360.54it/s]\n",
      "100%|██████████| 2000/2000 [00:05<00:00, 360.06it/s]\n",
      "100%|██████████| 2000/2000 [00:05<00:00, 359.76it/s]\n",
      "100%|██████████| 2000/2000 [00:05<00:00, 358.12it/s]\n",
      "100%|██████████| 2000/2000 [00:05<00:00, 359.10it/s]\n",
      "100%|██████████| 2000/2000 [00:05<00:00, 360.57it/s]\n",
      "100%|██████████| 2000/2000 [00:05<00:00, 361.00it/s]\n",
      "100%|██████████| 2000/2000 [00:05<00:00, 361.01it/s]\n",
      "100%|██████████| 2000/2000 [00:05<00:00, 360.40it/s]\n",
      "100%|██████████| 2000/2000 [00:05<00:00, 360.32it/s]\n",
      "100%|██████████| 2000/2000 [00:05<00:00, 360.75it/s]\n",
      "100%|██████████| 2000/2000 [00:05<00:00, 360.46it/s]\n",
      "100%|██████████| 2000/2000 [00:05<00:00, 360.82it/s]\n",
      "100%|██████████| 2000/2000 [00:05<00:00, 359.00it/s]\n",
      "100%|██████████| 2000/2000 [00:05<00:00, 360.69it/s]\n",
      "100%|██████████| 2000/2000 [00:05<00:00, 360.61it/s]\n",
      "100%|██████████| 2000/2000 [00:05<00:00, 360.35it/s]\n",
      "100%|██████████| 2000/2000 [00:05<00:00, 361.09it/s]\n",
      "100%|██████████| 2000/2000 [00:05<00:00, 360.74it/s]\n",
      "100%|██████████| 2000/2000 [00:05<00:00, 360.58it/s]\n",
      "100%|██████████| 2000/2000 [00:05<00:00, 360.47it/s]\n",
      "100%|██████████| 2000/2000 [00:05<00:00, 361.58it/s]\n",
      "100%|██████████| 2000/2000 [00:05<00:00, 363.31it/s]\n",
      "100%|██████████| 2000/2000 [00:05<00:00, 363.79it/s]\n",
      "100%|██████████| 2000/2000 [00:05<00:00, 364.04it/s]\n",
      "100%|██████████| 2000/2000 [00:05<00:00, 364.68it/s]\n",
      "100%|██████████| 2000/2000 [00:05<00:00, 364.09it/s]\n",
      "100%|██████████| 2000/2000 [00:05<00:00, 365.06it/s]\n",
      "100%|██████████| 2000/2000 [00:05<00:00, 364.21it/s]\n",
      "100%|██████████| 2000/2000 [00:05<00:00, 364.54it/s]\n",
      "100%|██████████| 2000/2000 [00:05<00:00, 364.38it/s]\n",
      "100%|██████████| 2000/2000 [00:05<00:00, 363.27it/s]\n",
      "100%|██████████| 2000/2000 [00:05<00:00, 363.29it/s]\n",
      "100%|██████████| 2000/2000 [00:05<00:00, 363.27it/s]\n",
      "100%|██████████| 2000/2000 [00:05<00:00, 364.12it/s]\n",
      "100%|██████████| 2000/2000 [00:05<00:00, 363.60it/s]\n",
      "100%|██████████| 2000/2000 [00:05<00:00, 364.82it/s]\n",
      "100%|██████████| 2000/2000 [00:05<00:00, 363.40it/s]\n",
      "100%|██████████| 2000/2000 [00:05<00:00, 364.23it/s]\n",
      "100%|██████████| 2000/2000 [00:05<00:00, 364.57it/s]\n",
      "100%|██████████| 2000/2000 [00:05<00:00, 364.47it/s]\n",
      "100%|██████████| 2000/2000 [00:05<00:00, 364.07it/s]\n",
      "100%|██████████| 2000/2000 [00:05<00:00, 363.39it/s]\n",
      "100%|██████████| 2000/2000 [00:05<00:00, 364.27it/s]\n",
      "100%|██████████| 2000/2000 [00:05<00:00, 364.27it/s]\n",
      "100%|██████████| 2000/2000 [00:05<00:00, 363.92it/s]\n",
      "100%|██████████| 2000/2000 [00:05<00:00, 364.50it/s]\n",
      "100%|██████████| 2000/2000 [00:05<00:00, 364.06it/s]\n",
      "100%|██████████| 2000/2000 [00:05<00:00, 364.11it/s]\n",
      "100%|██████████| 2000/2000 [00:05<00:00, 364.28it/s]\n",
      "100%|██████████| 2000/2000 [00:05<00:00, 364.85it/s]\n",
      "100%|██████████| 2000/2000 [00:05<00:00, 364.95it/s]\n",
      "100%|██████████| 2000/2000 [00:05<00:00, 362.94it/s]\n",
      "100%|██████████| 2000/2000 [00:05<00:00, 364.34it/s]\n",
      "100%|██████████| 2000/2000 [00:05<00:00, 363.76it/s]\n",
      "100%|██████████| 2000/2000 [00:05<00:00, 363.43it/s]\n",
      "100%|██████████| 2000/2000 [00:05<00:00, 364.14it/s]\n",
      "100%|██████████| 2000/2000 [00:05<00:00, 363.37it/s]\n",
      "100%|██████████| 2000/2000 [00:05<00:00, 363.46it/s]\n",
      "100%|██████████| 2000/2000 [00:05<00:00, 363.77it/s]\n",
      "100%|██████████| 2000/2000 [00:05<00:00, 363.70it/s]\n",
      "100%|██████████| 2000/2000 [00:05<00:00, 364.37it/s]\n",
      "100%|██████████| 2000/2000 [00:05<00:00, 364.18it/s]\n",
      "100%|██████████| 2000/2000 [00:05<00:00, 364.04it/s]\n",
      "100%|██████████| 2000/2000 [00:05<00:00, 364.45it/s]\n",
      "100%|██████████| 2000/2000 [00:05<00:00, 364.48it/s]\n",
      "100%|██████████| 2000/2000 [00:05<00:00, 364.60it/s]\n",
      "100%|██████████| 2000/2000 [00:05<00:00, 364.55it/s]\n",
      "100%|██████████| 2000/2000 [00:05<00:00, 364.79it/s]\n",
      "100%|██████████| 2000/2000 [00:05<00:00, 364.69it/s]\n",
      "100%|██████████| 2000/2000 [00:05<00:00, 364.38it/s]\n",
      "100%|██████████| 2000/2000 [00:05<00:00, 365.08it/s]\n",
      "100%|██████████| 2000/2000 [00:05<00:00, 364.69it/s]\n",
      "100%|██████████| 2000/2000 [00:05<00:00, 363.00it/s]\n",
      "100%|██████████| 2000/2000 [00:05<00:00, 363.40it/s]\n",
      "100%|██████████| 2000/2000 [00:05<00:00, 363.28it/s]\n",
      "100%|██████████| 2000/2000 [00:05<00:00, 364.03it/s]\n",
      "100%|██████████| 2000/2000 [00:05<00:00, 363.64it/s]\n",
      "100%|██████████| 2000/2000 [00:05<00:00, 364.27it/s]\n",
      "100%|██████████| 2000/2000 [00:05<00:00, 363.68it/s]\n",
      "100%|██████████| 2000/2000 [00:05<00:00, 363.32it/s]\n",
      "100%|██████████| 2000/2000 [00:05<00:00, 362.76it/s]\n",
      "100%|██████████| 2000/2000 [00:05<00:00, 363.87it/s]\n",
      "100%|██████████| 2000/2000 [00:05<00:00, 363.44it/s]\n",
      "100%|██████████| 2000/2000 [00:05<00:00, 363.24it/s]\n",
      "100%|██████████| 2000/2000 [00:05<00:00, 363.16it/s]\n",
      "100%|██████████| 2000/2000 [00:05<00:00, 364.00it/s]\n",
      "100%|██████████| 2000/2000 [00:05<00:00, 363.92it/s]\n",
      "100%|██████████| 2000/2000 [00:05<00:00, 363.25it/s]\n",
      "100%|██████████| 2000/2000 [00:05<00:00, 363.08it/s]\n",
      "100%|██████████| 2000/2000 [00:05<00:00, 363.12it/s]\n",
      "100%|██████████| 2000/2000 [00:05<00:00, 363.12it/s]\n",
      "100%|██████████| 2000/2000 [00:05<00:00, 362.55it/s]\n",
      "100%|██████████| 2000/2000 [00:05<00:00, 362.77it/s]\n",
      "100%|██████████| 2000/2000 [00:05<00:00, 363.16it/s]\n",
      "100%|██████████| 2000/2000 [00:05<00:00, 362.84it/s]\n",
      "100%|██████████| 2000/2000 [00:05<00:00, 362.60it/s]\n",
      "100%|██████████| 2000/2000 [00:05<00:00, 362.43it/s]\n",
      "100%|██████████| 2000/2000 [00:05<00:00, 362.93it/s]\n",
      "100%|██████████| 2000/2000 [00:05<00:00, 363.05it/s]\n",
      "100%|██████████| 2000/2000 [00:05<00:00, 363.04it/s]\n",
      "100%|██████████| 2000/2000 [00:05<00:00, 363.24it/s]\n",
      "100%|██████████| 2000/2000 [00:05<00:00, 363.22it/s]\n",
      "100%|██████████| 2000/2000 [00:05<00:00, 363.68it/s]\n",
      "100%|██████████| 2000/2000 [00:05<00:00, 363.80it/s]\n",
      "100%|██████████| 2000/2000 [00:05<00:00, 364.02it/s]\n",
      "100%|██████████| 2000/2000 [00:05<00:00, 363.75it/s]\n",
      "100%|██████████| 2000/2000 [00:05<00:00, 363.74it/s]\n",
      "100%|██████████| 2000/2000 [00:05<00:00, 363.14it/s]\n",
      "100%|██████████| 2000/2000 [00:05<00:00, 363.39it/s]\n",
      "100%|██████████| 2000/2000 [00:05<00:00, 362.83it/s]\n",
      "100%|██████████| 2000/2000 [00:05<00:00, 362.94it/s]\n",
      "100%|██████████| 2000/2000 [00:05<00:00, 363.42it/s]\n",
      "100%|██████████| 2000/2000 [00:05<00:00, 363.46it/s]\n",
      "100%|██████████| 2000/2000 [00:05<00:00, 363.63it/s]\n",
      "100%|██████████| 2000/2000 [00:05<00:00, 363.65it/s]\n",
      "100%|██████████| 2000/2000 [00:05<00:00, 363.85it/s]\n",
      "100%|██████████| 2000/2000 [00:05<00:00, 363.67it/s]\n",
      "100%|██████████| 2000/2000 [00:05<00:00, 363.17it/s]\n",
      "100%|██████████| 2000/2000 [00:05<00:00, 363.48it/s]\n",
      "100%|██████████| 2000/2000 [00:05<00:00, 363.61it/s]\n",
      "100%|██████████| 2000/2000 [00:05<00:00, 363.94it/s]\n",
      "100%|██████████| 2000/2000 [00:05<00:00, 363.30it/s]\n",
      "100%|██████████| 2000/2000 [00:05<00:00, 364.15it/s]\n",
      "100%|██████████| 2000/2000 [00:05<00:00, 363.40it/s]\n",
      "100%|██████████| 2000/2000 [00:05<00:00, 363.66it/s]\n",
      "100%|██████████| 2000/2000 [00:05<00:00, 364.09it/s]\n",
      "100%|██████████| 2000/2000 [00:05<00:00, 363.52it/s]\n",
      "100%|██████████| 2000/2000 [00:05<00:00, 363.54it/s]\n",
      "100%|██████████| 2000/2000 [00:05<00:00, 363.46it/s]\n",
      "100%|██████████| 2000/2000 [00:05<00:00, 363.04it/s]\n",
      "100%|██████████| 2000/2000 [00:05<00:00, 364.46it/s]\n",
      "100%|██████████| 2000/2000 [00:05<00:00, 364.52it/s]\n",
      "100%|██████████| 2000/2000 [00:05<00:00, 364.15it/s]\n",
      "100%|██████████| 2000/2000 [00:05<00:00, 364.12it/s]\n",
      "100%|██████████| 2000/2000 [00:05<00:00, 364.42it/s]\n",
      "100%|██████████| 2000/2000 [00:05<00:00, 363.91it/s]\n",
      "100%|██████████| 2000/2000 [00:05<00:00, 364.03it/s]\n",
      "100%|██████████| 2000/2000 [00:05<00:00, 363.99it/s]\n",
      "100%|██████████| 2000/2000 [00:05<00:00, 363.74it/s]\n",
      "100%|██████████| 2000/2000 [00:05<00:00, 363.51it/s]\n",
      "100%|██████████| 2000/2000 [00:05<00:00, 364.13it/s]\n",
      "100%|██████████| 2000/2000 [00:05<00:00, 363.30it/s]\n",
      "100%|██████████| 2000/2000 [00:05<00:00, 363.64it/s]\n",
      "100%|██████████| 2000/2000 [00:05<00:00, 362.96it/s]\n",
      "100%|██████████| 2000/2000 [00:05<00:00, 362.77it/s]\n",
      "100%|██████████| 2000/2000 [00:05<00:00, 363.05it/s]\n",
      "100%|██████████| 2000/2000 [00:05<00:00, 362.83it/s]\n",
      "100%|██████████| 2000/2000 [00:05<00:00, 362.76it/s]\n",
      "100%|██████████| 2000/2000 [00:05<00:00, 362.58it/s]\n",
      "100%|██████████| 2000/2000 [00:05<00:00, 363.08it/s]\n",
      "100%|██████████| 2000/2000 [00:05<00:00, 362.99it/s]\n",
      "100%|██████████| 2000/2000 [00:05<00:00, 363.23it/s]\n",
      "100%|██████████| 2000/2000 [00:05<00:00, 363.52it/s]\n",
      "100%|██████████| 2000/2000 [00:05<00:00, 363.44it/s]\n",
      "100%|██████████| 2000/2000 [00:05<00:00, 362.92it/s]\n",
      "100%|██████████| 2000/2000 [00:05<00:00, 362.65it/s]\n",
      "100%|██████████| 2000/2000 [00:05<00:00, 362.98it/s]\n",
      "100%|██████████| 2000/2000 [00:05<00:00, 362.68it/s]\n",
      "100%|██████████| 2000/2000 [00:05<00:00, 362.39it/s]\n",
      "100%|██████████| 2000/2000 [00:05<00:00, 362.96it/s]\n",
      "100%|██████████| 2000/2000 [00:05<00:00, 362.99it/s]\n",
      "100%|██████████| 2000/2000 [00:05<00:00, 362.93it/s]\n",
      "100%|██████████| 2000/2000 [00:05<00:00, 363.27it/s]\n",
      "100%|██████████| 2000/2000 [00:05<00:00, 363.82it/s]\n",
      "100%|██████████| 2000/2000 [00:05<00:00, 362.85it/s]\n",
      "100%|██████████| 2000/2000 [00:05<00:00, 363.26it/s]\n",
      "100%|██████████| 2000/2000 [00:05<00:00, 362.96it/s]\n",
      "100%|██████████| 2000/2000 [00:05<00:00, 363.64it/s]\n",
      "100%|██████████| 2000/2000 [00:05<00:00, 363.19it/s]\n",
      "100%|██████████| 2000/2000 [00:05<00:00, 363.59it/s]\n",
      "100%|██████████| 2000/2000 [00:05<00:00, 362.87it/s]\n",
      "100%|██████████| 2000/2000 [00:05<00:00, 363.05it/s]\n"
     ]
    },
    {
     "data": {
      "image/png": "[encoded data removed]",
      "text/plain": [
       "<Figure size 1000x1000 with 4 Axes>"
      ]
     },
     "metadata": {},
     "output_type": "display_data"
    }
   ],
   "source": [
    "import numpy as np\n",
    "import pandas as pd\n",
    "import pickle\n",
    "import random\n",
    "import sys, time\n",
    "from functions import production_function, regularise, wage_function, demand_function, innovate, generate_nested_matrix, visualize_multi_layer_trade_network, array_to_dataframe\n",
    "from tradeutils import doAllTrades\n",
    "from pricing import updatePricesAndConsume\n",
    "from tqdm import tqdm\n",
    "from agents_vec import gulden_vectorised\n",
    "import matplotlib.pyplot as plt\n",
    "from matplotlib.gridspec import GridSpec\n",
    "\n",
    "# Constants\n",
    "np.random.seed(1)\n",
    "case = '2x2'\n",
    "iterations = 2000\n",
    "n_countries = 2\n",
    "n_products = 2\n",
    "countries = ['{i}'.format(i=i) for i in range(n_countries)]\n",
    "products = ['{i}'.format(i=i) for i in range(n_products)]\n",
    "alpha = np.ones((n_countries, n_products)) * 0.5\n",
    "beta = np.ones((n_countries, n_products)) * 0.5\n",
    "A_test = np.ones((n_countries, n_products))\n",
    "share = np.ones(n_countries)\n",
    "citizens_per_nation= [100,100]\n",
    "\n",
    "# Parameters for the experiment\n",
    "value_range = np.linspace(0.01, 2.0, 50)  # Range of values to test for each element in A\n",
    "results = np.zeros((n_countries, n_products, len(value_range), n_countries*n_products))\n",
    "\n",
    "# Run the experiment\n",
    "for i in range(n_countries):\n",
    "    for j in range(n_products):\n",
    "        idx = i*n_products + j\n",
    "        original_value = A_test[i, j]\n",
    "        for k, value in enumerate(value_range):\n",
    "            A_test[i, j] = value\n",
    "#             print(A_test)\n",
    "            _,_,ss_exports,_,_ = gulden_vectorised(case='test_o', n_countries=n_countries, n_products=n_products, countries=countries, products=products, \n",
    "                                                citizens_per_nation=citizens_per_nation, A=A_test, alpha=alpha, beta=beta, share=share, \n",
    "                                                iterations=iterations, Tr_time=1, trade_change=0.02, autarky_time=15000, pricing_algorithm='cpmu', \n",
    "                                                utility_algorithm='geometric', wage_algorithm='marginal_product', csv=False, plot=False)\n",
    "            \n",
    "            results[i,j,k,:] = ss_exports.flatten()\n",
    "        A_test[i, j] = 1  # Reset the value after testing\n",
    "\n",
    "# Now, plotting the matrix of scatter plots to show the results\n",
    "fig = plt.figure(figsize=(10, 10))\n",
    "gs = GridSpec(n_countries, n_products, figure=fig)\n",
    "\n",
    "for i in range(n_countries):\n",
    "    for j in range(n_products):\n",
    "        ax = fig.add_subplot(gs[i, j])\n",
    "        for n in range(n_countries*n_products):\n",
    "            ax.scatter(value_range, results[i,j,:,n], label=f'Country {n // n_products}, Product {n % n_products}')\n",
    "        ax.set_title(f'Country {i}, Product {j}')\n",
    "        ax.set_xlabel('Value of A element')\n",
    "        ax.set_ylabel('steady-state Exports')\n",
    "        ax.legend()\n",
    "\n",
    "plt.tight_layout()\n",
    "plt.show()\n",
    "fig.savefig('/rds/general/user/nk821/home/anaconda3/CCS/ABM/Gulden/vectorised_tests/plots/sensitivity_2x2_exports.png')"
   ]
  },
  {
   "cell_type": "markdown",
   "metadata": {},
   "source": [
    "# 1.2 Total Production\n"
   ]
  },
  {
   "cell_type": "code",
   "execution_count": null,
   "metadata": {},
   "outputs": [
    {
     "name": "stdout",
     "output_type": "stream",
     "text": [
      "[[0.01 1.  ]\n",
      " [1.   1.  ]]\n"
     ]
    },
    {
     "name": "stderr",
     "output_type": "stream",
     "text": [
      "100%|██████████| 2000/2000 [00:05<00:00, 358.95it/s]\n"
     ]
    },
    {
     "name": "stdout",
     "output_type": "stream",
     "text": [
      "[[0.05061224 1.        ]\n",
      " [1.         1.        ]]\n"
     ]
    },
    {
     "name": "stderr",
     "output_type": "stream",
     "text": [
      "100%|██████████| 2000/2000 [00:05<00:00, 357.13it/s]\n"
     ]
    },
    {
     "name": "stdout",
     "output_type": "stream",
     "text": [
      "[[0.09122449 1.        ]\n",
      " [1.         1.        ]]\n"
     ]
    },
    {
     "name": "stderr",
     "output_type": "stream",
     "text": [
      "100%|██████████| 2000/2000 [00:05<00:00, 358.00it/s]\n"
     ]
    },
    {
     "name": "stdout",
     "output_type": "stream",
     "text": [
      "[[0.13183673 1.        ]\n",
      " [1.         1.        ]]\n"
     ]
    },
    {
     "name": "stderr",
     "output_type": "stream",
     "text": [
      "100%|██████████| 2000/2000 [00:05<00:00, 357.35it/s]\n"
     ]
    },
    {
     "name": "stdout",
     "output_type": "stream",
     "text": [
      "[[0.17244898 1.        ]\n",
      " [1.         1.        ]]\n"
     ]
    },
    {
     "name": "stderr",
     "output_type": "stream",
     "text": [
      "100%|██████████| 2000/2000 [00:05<00:00, 357.76it/s]\n"
     ]
    },
    {
     "name": "stdout",
     "output_type": "stream",
     "text": [
      "[[0.21306122 1.        ]\n",
      " [1.         1.        ]]\n"
     ]
    },
    {
     "name": "stderr",
     "output_type": "stream",
     "text": [
      "100%|██████████| 2000/2000 [00:05<00:00, 358.31it/s]\n"
     ]
    },
    {
     "name": "stdout",
     "output_type": "stream",
     "text": [
      "[[0.25367347 1.        ]\n",
      " [1.         1.        ]]\n"
     ]
    },
    {
     "name": "stderr",
     "output_type": "stream",
     "text": [
      "100%|██████████| 2000/2000 [00:05<00:00, 357.25it/s]\n"
     ]
    },
    {
     "name": "stdout",
     "output_type": "stream",
     "text": [
      "[[0.29428571 1.        ]\n",
      " [1.         1.        ]]\n"
     ]
    },
    {
     "name": "stderr",
     "output_type": "stream",
     "text": [
      "100%|██████████| 2000/2000 [00:05<00:00, 357.18it/s]\n"
     ]
    },
    {
     "name": "stdout",
     "output_type": "stream",
     "text": [
      "[[0.33489796 1.        ]\n",
      " [1.         1.        ]]\n"
     ]
    },
    {
     "name": "stderr",
     "output_type": "stream",
     "text": [
      "100%|██████████| 2000/2000 [00:05<00:00, 357.63it/s]\n"
     ]
    },
    {
     "name": "stdout",
     "output_type": "stream",
     "text": [
      "[[0.3755102 1.       ]\n",
      " [1.        1.       ]]\n"
     ]
    },
    {
     "name": "stderr",
     "output_type": "stream",
     "text": [
      "100%|██████████| 2000/2000 [00:05<00:00, 358.03it/s]\n"
     ]
    },
    {
     "name": "stdout",
     "output_type": "stream",
     "text": [
      "[[0.41612245 1.        ]\n",
      " [1.         1.        ]]\n"
     ]
    },
    {
     "name": "stderr",
     "output_type": "stream",
     "text": [
      "100%|██████████| 2000/2000 [00:05<00:00, 358.68it/s]\n"
     ]
    },
    {
     "name": "stdout",
     "output_type": "stream",
     "text": [
      "[[0.45673469 1.        ]\n",
      " [1.         1.        ]]\n"
     ]
    },
    {
     "name": "stderr",
     "output_type": "stream",
     "text": [
      "100%|██████████| 2000/2000 [00:05<00:00, 357.36it/s]\n"
     ]
    },
    {
     "name": "stdout",
     "output_type": "stream",
     "text": [
      "[[0.49734694 1.        ]\n",
      " [1.         1.        ]]\n"
     ]
    },
    {
     "name": "stderr",
     "output_type": "stream",
     "text": [
      "100%|██████████| 2000/2000 [00:05<00:00, 357.34it/s]\n"
     ]
    },
    {
     "name": "stdout",
     "output_type": "stream",
     "text": [
      "[[0.53795918 1.        ]\n",
      " [1.         1.        ]]\n"
     ]
    },
    {
     "name": "stderr",
     "output_type": "stream",
     "text": [
      "100%|██████████| 2000/2000 [00:05<00:00, 358.36it/s]\n"
     ]
    },
    {
     "name": "stdout",
     "output_type": "stream",
     "text": [
      "[[0.57857143 1.        ]\n",
      " [1.         1.        ]]\n"
     ]
    },
    {
     "name": "stderr",
     "output_type": "stream",
     "text": [
      "100%|██████████| 2000/2000 [00:05<00:00, 358.34it/s]\n"
     ]
    },
    {
     "name": "stdout",
     "output_type": "stream",
     "text": [
      "[[0.61918367 1.        ]\n",
      " [1.         1.        ]]\n"
     ]
    },
    {
     "name": "stderr",
     "output_type": "stream",
     "text": [
      "100%|██████████| 2000/2000 [00:05<00:00, 359.20it/s]\n"
     ]
    },
    {
     "name": "stdout",
     "output_type": "stream",
     "text": [
      "[[0.65979592 1.        ]\n",
      " [1.         1.        ]]\n"
     ]
    },
    {
     "name": "stderr",
     "output_type": "stream",
     "text": [
      "100%|██████████| 2000/2000 [00:05<00:00, 359.51it/s]\n"
     ]
    },
    {
     "name": "stdout",
     "output_type": "stream",
     "text": [
      "[[0.70040816 1.        ]\n",
      " [1.         1.        ]]\n"
     ]
    },
    {
     "name": "stderr",
     "output_type": "stream",
     "text": [
      "100%|██████████| 2000/2000 [00:05<00:00, 359.24it/s]\n"
     ]
    },
    {
     "name": "stdout",
     "output_type": "stream",
     "text": [
      "[[0.74102041 1.        ]\n",
      " [1.         1.        ]]\n"
     ]
    },
    {
     "name": "stderr",
     "output_type": "stream",
     "text": [
      "100%|██████████| 2000/2000 [00:05<00:00, 358.51it/s]\n"
     ]
    },
    {
     "name": "stdout",
     "output_type": "stream",
     "text": [
      "[[0.78163265 1.        ]\n",
      " [1.         1.        ]]\n"
     ]
    },
    {
     "name": "stderr",
     "output_type": "stream",
     "text": [
      "100%|██████████| 2000/2000 [00:05<00:00, 360.04it/s]\n"
     ]
    },
    {
     "name": "stdout",
     "output_type": "stream",
     "text": [
      "[[0.8222449 1.       ]\n",
      " [1.        1.       ]]\n"
     ]
    },
    {
     "name": "stderr",
     "output_type": "stream",
     "text": [
      "100%|██████████| 2000/2000 [00:05<00:00, 359.70it/s]\n"
     ]
    },
    {
     "name": "stdout",
     "output_type": "stream",
     "text": [
      "[[0.86285714 1.        ]\n",
      " [1.         1.        ]]\n"
     ]
    },
    {
     "name": "stderr",
     "output_type": "stream",
     "text": [
      "100%|██████████| 2000/2000 [00:05<00:00, 359.31it/s]\n"
     ]
    },
    {
     "name": "stdout",
     "output_type": "stream",
     "text": [
      "[[0.90346939 1.        ]\n",
      " [1.         1.        ]]\n"
     ]
    },
    {
     "name": "stderr",
     "output_type": "stream",
     "text": [
      "100%|██████████| 2000/2000 [00:05<00:00, 359.65it/s]\n"
     ]
    },
    {
     "name": "stdout",
     "output_type": "stream",
     "text": [
      "[[0.94408163 1.        ]\n",
      " [1.         1.        ]]\n"
     ]
    },
    {
     "name": "stderr",
     "output_type": "stream",
     "text": [
      "100%|██████████| 2000/2000 [00:05<00:00, 359.82it/s]\n"
     ]
    },
    {
     "name": "stdout",
     "output_type": "stream",
     "text": [
      "[[0.98469388 1.        ]\n",
      " [1.         1.        ]]\n"
     ]
    },
    {
     "name": "stderr",
     "output_type": "stream",
     "text": [
      "100%|██████████| 2000/2000 [00:05<00:00, 358.78it/s]\n"
     ]
    },
    {
     "name": "stdout",
     "output_type": "stream",
     "text": [
      "[[1.02530612 1.        ]\n",
      " [1.         1.        ]]\n"
     ]
    },
    {
     "name": "stderr",
     "output_type": "stream",
     "text": [
      "100%|██████████| 2000/2000 [00:05<00:00, 359.36it/s]\n"
     ]
    },
    {
     "name": "stdout",
     "output_type": "stream",
     "text": [
      "[[1.06591837 1.        ]\n",
      " [1.         1.        ]]\n"
     ]
    },
    {
     "name": "stderr",
     "output_type": "stream",
     "text": [
      "100%|██████████| 2000/2000 [00:05<00:00, 359.25it/s]\n"
     ]
    },
    {
     "name": "stdout",
     "output_type": "stream",
     "text": [
      "[[1.10653061 1.        ]\n",
      " [1.         1.        ]]\n"
     ]
    },
    {
     "name": "stderr",
     "output_type": "stream",
     "text": [
      "100%|██████████| 2000/2000 [00:05<00:00, 359.50it/s]\n"
     ]
    },
    {
     "name": "stdout",
     "output_type": "stream",
     "text": [
      "[[1.14714286 1.        ]\n",
      " [1.         1.        ]]\n"
     ]
    },
    {
     "name": "stderr",
     "output_type": "stream",
     "text": [
      "100%|██████████| 2000/2000 [00:05<00:00, 359.78it/s]\n"
     ]
    },
    {
     "name": "stdout",
     "output_type": "stream",
     "text": [
      "[[1.1877551 1.       ]\n",
      " [1.        1.       ]]\n"
     ]
    },
    {
     "name": "stderr",
     "output_type": "stream",
     "text": [
      "100%|██████████| 2000/2000 [00:05<00:00, 360.03it/s]\n"
     ]
    },
    {
     "name": "stdout",
     "output_type": "stream",
     "text": [
      "[[1.22836735 1.        ]\n",
      " [1.         1.        ]]\n"
     ]
    },
    {
     "name": "stderr",
     "output_type": "stream",
     "text": [
      "100%|██████████| 2000/2000 [00:05<00:00, 360.14it/s]\n"
     ]
    },
    {
     "name": "stdout",
     "output_type": "stream",
     "text": [
      "[[1.26897959 1.        ]\n",
      " [1.         1.        ]]\n"
     ]
    },
    {
     "name": "stderr",
     "output_type": "stream",
     "text": [
      "100%|██████████| 2000/2000 [00:05<00:00, 360.01it/s]\n"
     ]
    },
    {
     "name": "stdout",
     "output_type": "stream",
     "text": [
      "[[1.30959184 1.        ]\n",
      " [1.         1.        ]]\n"
     ]
    },
    {
     "name": "stderr",
     "output_type": "stream",
     "text": [
      "100%|██████████| 2000/2000 [00:05<00:00, 359.47it/s]\n"
     ]
    },
    {
     "name": "stdout",
     "output_type": "stream",
     "text": [
      "[[1.35020408 1.        ]\n",
      " [1.         1.        ]]\n"
     ]
    },
    {
     "name": "stderr",
     "output_type": "stream",
     "text": [
      "100%|██████████| 2000/2000 [00:05<00:00, 359.93it/s]\n"
     ]
    },
    {
     "name": "stdout",
     "output_type": "stream",
     "text": [
      "[[1.39081633 1.        ]\n",
      " [1.         1.        ]]\n"
     ]
    },
    {
     "name": "stderr",
     "output_type": "stream",
     "text": [
      "100%|██████████| 2000/2000 [00:05<00:00, 359.97it/s]\n"
     ]
    },
    {
     "name": "stdout",
     "output_type": "stream",
     "text": [
      "[[1.43142857 1.        ]\n",
      " [1.         1.        ]]\n"
     ]
    },
    {
     "name": "stderr",
     "output_type": "stream",
     "text": [
      "100%|██████████| 2000/2000 [00:05<00:00, 360.47it/s]\n"
     ]
    },
    {
     "name": "stdout",
     "output_type": "stream",
     "text": [
      "[[1.47204082 1.        ]\n",
      " [1.         1.        ]]\n"
     ]
    },
    {
     "name": "stderr",
     "output_type": "stream",
     "text": [
      "100%|██████████| 2000/2000 [00:05<00:00, 361.26it/s]\n"
     ]
    },
    {
     "name": "stdout",
     "output_type": "stream",
     "text": [
      "[[1.51265306 1.        ]\n",
      " [1.         1.        ]]\n"
     ]
    },
    {
     "name": "stderr",
     "output_type": "stream",
     "text": [
      "100%|██████████| 2000/2000 [00:05<00:00, 360.81it/s]\n"
     ]
    },
    {
     "name": "stdout",
     "output_type": "stream",
     "text": [
      "[[1.55326531 1.        ]\n",
      " [1.         1.        ]]\n"
     ]
    },
    {
     "name": "stderr",
     "output_type": "stream",
     "text": [
      "100%|██████████| 2000/2000 [00:05<00:00, 360.45it/s]\n"
     ]
    },
    {
     "name": "stdout",
     "output_type": "stream",
     "text": [
      "[[1.59387755 1.        ]\n",
      " [1.         1.        ]]\n"
     ]
    },
    {
     "name": "stderr",
     "output_type": "stream",
     "text": [
      "100%|██████████| 2000/2000 [00:05<00:00, 360.24it/s]\n"
     ]
    },
    {
     "name": "stdout",
     "output_type": "stream",
     "text": [
      "[[1.6344898 1.       ]\n",
      " [1.        1.       ]]\n"
     ]
    },
    {
     "name": "stderr",
     "output_type": "stream",
     "text": [
      "100%|██████████| 2000/2000 [00:05<00:00, 360.40it/s]\n"
     ]
    },
    {
     "name": "stdout",
     "output_type": "stream",
     "text": [
      "[[1.67510204 1.        ]\n",
      " [1.         1.        ]]\n"
     ]
    },
    {
     "name": "stderr",
     "output_type": "stream",
     "text": [
      "100%|██████████| 2000/2000 [00:05<00:00, 360.38it/s]\n"
     ]
    },
    {
     "name": "stdout",
     "output_type": "stream",
     "text": [
      "[[1.71571429 1.        ]\n",
      " [1.         1.        ]]\n"
     ]
    },
    {
     "name": "stderr",
     "output_type": "stream",
     "text": [
      "100%|██████████| 2000/2000 [00:05<00:00, 360.43it/s]\n"
     ]
    },
    {
     "name": "stdout",
     "output_type": "stream",
     "text": [
      "[[1.75632653 1.        ]\n",
      " [1.         1.        ]]\n"
     ]
    },
    {
     "name": "stderr",
     "output_type": "stream",
     "text": [
      "100%|██████████| 2000/2000 [00:05<00:00, 359.28it/s]\n"
     ]
    },
    {
     "name": "stdout",
     "output_type": "stream",
     "text": [
      "[[1.79693878 1.        ]\n",
      " [1.         1.        ]]\n"
     ]
    },
    {
     "name": "stderr",
     "output_type": "stream",
     "text": [
      "100%|██████████| 2000/2000 [00:05<00:00, 359.55it/s]\n"
     ]
    },
    {
     "name": "stdout",
     "output_type": "stream",
     "text": [
      "[[1.83755102 1.        ]\n",
      " [1.         1.        ]]\n"
     ]
    },
    {
     "name": "stderr",
     "output_type": "stream",
     "text": [
      "100%|██████████| 2000/2000 [00:05<00:00, 360.46it/s]\n"
     ]
    },
    {
     "name": "stdout",
     "output_type": "stream",
     "text": [
      "[[1.87816327 1.        ]\n",
      " [1.         1.        ]]\n"
     ]
    },
    {
     "name": "stderr",
     "output_type": "stream",
     "text": [
      "100%|██████████| 2000/2000 [00:05<00:00, 360.73it/s]\n"
     ]
    },
    {
     "name": "stdout",
     "output_type": "stream",
     "text": [
      "[[1.91877551 1.        ]\n",
      " [1.         1.        ]]\n"
     ]
    },
    {
     "name": "stderr",
     "output_type": "stream",
     "text": [
      "100%|██████████| 2000/2000 [00:05<00:00, 361.27it/s]\n"
     ]
    },
    {
     "name": "stdout",
     "output_type": "stream",
     "text": [
      "[[1.95938776 1.        ]\n",
      " [1.         1.        ]]\n"
     ]
    },
    {
     "name": "stderr",
     "output_type": "stream",
     "text": [
      "100%|██████████| 2000/2000 [00:05<00:00, 360.99it/s]\n"
     ]
    },
    {
     "name": "stdout",
     "output_type": "stream",
     "text": [
      "[[2. 1.]\n",
      " [1. 1.]]\n"
     ]
    },
    {
     "name": "stderr",
     "output_type": "stream",
     "text": [
      "100%|██████████| 2000/2000 [00:05<00:00, 361.02it/s]\n"
     ]
    },
    {
     "name": "stdout",
     "output_type": "stream",
     "text": [
      "[[1.   0.01]\n",
      " [1.   1.  ]]\n"
     ]
    },
    {
     "name": "stderr",
     "output_type": "stream",
     "text": [
      "100%|██████████| 2000/2000 [00:05<00:00, 360.77it/s]\n"
     ]
    },
    {
     "name": "stdout",
     "output_type": "stream",
     "text": [
      "[[1.         0.05061224]\n",
      " [1.         1.        ]]\n"
     ]
    },
    {
     "name": "stderr",
     "output_type": "stream",
     "text": [
      "100%|██████████| 2000/2000 [00:05<00:00, 360.68it/s]\n"
     ]
    },
    {
     "name": "stdout",
     "output_type": "stream",
     "text": [
      "[[1.         0.09122449]\n",
      " [1.         1.        ]]\n"
     ]
    },
    {
     "name": "stderr",
     "output_type": "stream",
     "text": [
      "100%|██████████| 2000/2000 [00:05<00:00, 360.71it/s]\n"
     ]
    },
    {
     "name": "stdout",
     "output_type": "stream",
     "text": [
      "[[1.         0.13183673]\n",
      " [1.         1.        ]]\n"
     ]
    },
    {
     "name": "stderr",
     "output_type": "stream",
     "text": [
      "100%|██████████| 2000/2000 [00:05<00:00, 360.98it/s]\n"
     ]
    },
    {
     "name": "stdout",
     "output_type": "stream",
     "text": [
      "[[1.         0.17244898]\n",
      " [1.         1.        ]]\n"
     ]
    },
    {
     "name": "stderr",
     "output_type": "stream",
     "text": [
      "100%|██████████| 2000/2000 [00:05<00:00, 360.28it/s]\n"
     ]
    },
    {
     "name": "stdout",
     "output_type": "stream",
     "text": [
      "[[1.         0.21306122]\n",
      " [1.         1.        ]]\n"
     ]
    },
    {
     "name": "stderr",
     "output_type": "stream",
     "text": [
      "100%|██████████| 2000/2000 [00:05<00:00, 360.56it/s]\n"
     ]
    },
    {
     "name": "stdout",
     "output_type": "stream",
     "text": [
      "[[1.         0.25367347]\n",
      " [1.         1.        ]]\n"
     ]
    },
    {
     "name": "stderr",
     "output_type": "stream",
     "text": [
      "100%|██████████| 2000/2000 [00:05<00:00, 360.11it/s]\n"
     ]
    },
    {
     "name": "stdout",
     "output_type": "stream",
     "text": [
      "[[1.         0.29428571]\n",
      " [1.         1.        ]]\n"
     ]
    },
    {
     "name": "stderr",
     "output_type": "stream",
     "text": [
      "100%|██████████| 2000/2000 [00:05<00:00, 360.71it/s]\n"
     ]
    },
    {
     "name": "stdout",
     "output_type": "stream",
     "text": [
      "[[1.         0.33489796]\n",
      " [1.         1.        ]]\n"
     ]
    },
    {
     "name": "stderr",
     "output_type": "stream",
     "text": [
      "100%|██████████| 2000/2000 [00:05<00:00, 360.37it/s]\n"
     ]
    },
    {
     "name": "stdout",
     "output_type": "stream",
     "text": [
      "[[1.        0.3755102]\n",
      " [1.        1.       ]]\n"
     ]
    },
    {
     "name": "stderr",
     "output_type": "stream",
     "text": [
      "100%|██████████| 2000/2000 [00:05<00:00, 361.01it/s]\n"
     ]
    },
    {
     "name": "stdout",
     "output_type": "stream",
     "text": [
      "[[1.         0.41612245]\n",
      " [1.         1.        ]]\n"
     ]
    },
    {
     "name": "stderr",
     "output_type": "stream",
     "text": [
      "100%|██████████| 2000/2000 [00:05<00:00, 360.10it/s]\n"
     ]
    },
    {
     "name": "stdout",
     "output_type": "stream",
     "text": [
      "[[1.         0.45673469]\n",
      " [1.         1.        ]]\n"
     ]
    },
    {
     "name": "stderr",
     "output_type": "stream",
     "text": [
      "100%|██████████| 2000/2000 [00:05<00:00, 360.63it/s]\n"
     ]
    },
    {
     "name": "stdout",
     "output_type": "stream",
     "text": [
      "[[1.         0.49734694]\n",
      " [1.         1.        ]]\n"
     ]
    },
    {
     "name": "stderr",
     "output_type": "stream",
     "text": [
      "100%|██████████| 2000/2000 [00:05<00:00, 360.16it/s]\n"
     ]
    },
    {
     "name": "stdout",
     "output_type": "stream",
     "text": [
      "[[1.         0.53795918]\n",
      " [1.         1.        ]]\n"
     ]
    },
    {
     "name": "stderr",
     "output_type": "stream",
     "text": [
      "100%|██████████| 2000/2000 [00:05<00:00, 360.37it/s]\n"
     ]
    },
    {
     "name": "stdout",
     "output_type": "stream",
     "text": [
      "[[1.         0.57857143]\n",
      " [1.         1.        ]]\n"
     ]
    },
    {
     "name": "stderr",
     "output_type": "stream",
     "text": [
      "100%|██████████| 2000/2000 [00:05<00:00, 359.80it/s]\n"
     ]
    },
    {
     "name": "stdout",
     "output_type": "stream",
     "text": [
      "[[1.         0.61918367]\n",
      " [1.         1.        ]]\n"
     ]
    },
    {
     "name": "stderr",
     "output_type": "stream",
     "text": [
      "100%|██████████| 2000/2000 [00:05<00:00, 360.60it/s]\n"
     ]
    },
    {
     "name": "stdout",
     "output_type": "stream",
     "text": [
      "[[1.         0.65979592]\n",
      " [1.         1.        ]]\n"
     ]
    },
    {
     "name": "stderr",
     "output_type": "stream",
     "text": [
      "100%|██████████| 2000/2000 [00:05<00:00, 360.33it/s]\n"
     ]
    },
    {
     "name": "stdout",
     "output_type": "stream",
     "text": [
      "[[1.         0.70040816]\n",
      " [1.         1.        ]]\n"
     ]
    },
    {
     "name": "stderr",
     "output_type": "stream",
     "text": [
      "100%|██████████| 2000/2000 [00:05<00:00, 360.52it/s]\n"
     ]
    },
    {
     "name": "stdout",
     "output_type": "stream",
     "text": [
      "[[1.         0.74102041]\n",
      " [1.         1.        ]]\n"
     ]
    },
    {
     "name": "stderr",
     "output_type": "stream",
     "text": [
      "100%|██████████| 2000/2000 [00:05<00:00, 359.95it/s]\n"
     ]
    },
    {
     "name": "stdout",
     "output_type": "stream",
     "text": [
      "[[1.         0.78163265]\n",
      " [1.         1.        ]]\n"
     ]
    },
    {
     "name": "stderr",
     "output_type": "stream",
     "text": [
      "100%|██████████| 2000/2000 [00:05<00:00, 360.37it/s]\n"
     ]
    },
    {
     "name": "stdout",
     "output_type": "stream",
     "text": [
      "[[1.        0.8222449]\n",
      " [1.        1.       ]]\n"
     ]
    },
    {
     "name": "stderr",
     "output_type": "stream",
     "text": [
      "100%|██████████| 2000/2000 [00:05<00:00, 360.24it/s]\n"
     ]
    },
    {
     "name": "stdout",
     "output_type": "stream",
     "text": [
      "[[1.         0.86285714]\n",
      " [1.         1.        ]]\n"
     ]
    },
    {
     "name": "stderr",
     "output_type": "stream",
     "text": [
      "100%|██████████| 2000/2000 [00:05<00:00, 360.42it/s]\n"
     ]
    },
    {
     "name": "stdout",
     "output_type": "stream",
     "text": [
      "[[1.         0.90346939]\n",
      " [1.         1.        ]]\n"
     ]
    },
    {
     "name": "stderr",
     "output_type": "stream",
     "text": [
      "100%|██████████| 2000/2000 [00:05<00:00, 360.31it/s]\n"
     ]
    },
    {
     "name": "stdout",
     "output_type": "stream",
     "text": [
      "[[1.         0.94408163]\n",
      " [1.         1.        ]]\n"
     ]
    },
    {
     "name": "stderr",
     "output_type": "stream",
     "text": [
      "100%|██████████| 2000/2000 [00:05<00:00, 360.58it/s]\n"
     ]
    },
    {
     "name": "stdout",
     "output_type": "stream",
     "text": [
      "[[1.         0.98469388]\n",
      " [1.         1.        ]]\n"
     ]
    },
    {
     "name": "stderr",
     "output_type": "stream",
     "text": [
      "100%|██████████| 2000/2000 [00:05<00:00, 360.21it/s]\n"
     ]
    },
    {
     "name": "stdout",
     "output_type": "stream",
     "text": [
      "[[1.         1.02530612]\n",
      " [1.         1.        ]]\n"
     ]
    },
    {
     "name": "stderr",
     "output_type": "stream",
     "text": [
      "100%|██████████| 2000/2000 [00:05<00:00, 360.33it/s]\n"
     ]
    },
    {
     "name": "stdout",
     "output_type": "stream",
     "text": [
      "[[1.         1.06591837]\n",
      " [1.         1.        ]]\n"
     ]
    },
    {
     "name": "stderr",
     "output_type": "stream",
     "text": [
      "100%|██████████| 2000/2000 [00:05<00:00, 360.04it/s]\n"
     ]
    },
    {
     "name": "stdout",
     "output_type": "stream",
     "text": [
      "[[1.         1.10653061]\n",
      " [1.         1.        ]]\n"
     ]
    },
    {
     "name": "stderr",
     "output_type": "stream",
     "text": [
      "100%|██████████| 2000/2000 [00:05<00:00, 359.94it/s]\n"
     ]
    },
    {
     "name": "stdout",
     "output_type": "stream",
     "text": [
      "[[1.         1.14714286]\n",
      " [1.         1.        ]]\n"
     ]
    },
    {
     "name": "stderr",
     "output_type": "stream",
     "text": [
      "100%|██████████| 2000/2000 [00:05<00:00, 359.98it/s]\n"
     ]
    },
    {
     "name": "stdout",
     "output_type": "stream",
     "text": [
      "[[1.        1.1877551]\n",
      " [1.        1.       ]]\n"
     ]
    },
    {
     "name": "stderr",
     "output_type": "stream",
     "text": [
      "100%|██████████| 2000/2000 [00:05<00:00, 360.80it/s]\n"
     ]
    },
    {
     "name": "stdout",
     "output_type": "stream",
     "text": [
      "[[1.         1.22836735]\n",
      " [1.         1.        ]]\n"
     ]
    },
    {
     "name": "stderr",
     "output_type": "stream",
     "text": [
      "100%|██████████| 2000/2000 [00:05<00:00, 361.03it/s]\n"
     ]
    },
    {
     "name": "stdout",
     "output_type": "stream",
     "text": [
      "[[1.         1.26897959]\n",
      " [1.         1.        ]]\n"
     ]
    },
    {
     "name": "stderr",
     "output_type": "stream",
     "text": [
      "100%|██████████| 2000/2000 [00:05<00:00, 360.80it/s]\n"
     ]
    },
    {
     "name": "stdout",
     "output_type": "stream",
     "text": [
      "[[1.         1.30959184]\n",
      " [1.         1.        ]]\n"
     ]
    },
    {
     "name": "stderr",
     "output_type": "stream",
     "text": [
      "100%|██████████| 2000/2000 [00:05<00:00, 360.81it/s]\n"
     ]
    },
    {
     "name": "stdout",
     "output_type": "stream",
     "text": [
      "[[1.         1.35020408]\n",
      " [1.         1.        ]]\n"
     ]
    },
    {
     "name": "stderr",
     "output_type": "stream",
     "text": [
      "100%|██████████| 2000/2000 [00:05<00:00, 360.82it/s]\n"
     ]
    },
    {
     "name": "stdout",
     "output_type": "stream",
     "text": [
      "[[1.         1.39081633]\n",
      " [1.         1.        ]]\n"
     ]
    },
    {
     "name": "stderr",
     "output_type": "stream",
     "text": [
      "100%|██████████| 2000/2000 [00:05<00:00, 360.84it/s]\n"
     ]
    },
    {
     "name": "stdout",
     "output_type": "stream",
     "text": [
      "[[1.         1.43142857]\n",
      " [1.         1.        ]]\n"
     ]
    },
    {
     "name": "stderr",
     "output_type": "stream",
     "text": [
      "100%|██████████| 2000/2000 [00:05<00:00, 360.54it/s]\n"
     ]
    },
    {
     "name": "stdout",
     "output_type": "stream",
     "text": [
      "[[1.         1.47204082]\n",
      " [1.         1.        ]]\n"
     ]
    },
    {
     "name": "stderr",
     "output_type": "stream",
     "text": [
      "100%|██████████| 2000/2000 [00:05<00:00, 360.96it/s]\n"
     ]
    },
    {
     "name": "stdout",
     "output_type": "stream",
     "text": [
      "[[1.         1.51265306]\n",
      " [1.         1.        ]]\n"
     ]
    },
    {
     "name": "stderr",
     "output_type": "stream",
     "text": [
      "100%|██████████| 2000/2000 [00:05<00:00, 359.99it/s]\n"
     ]
    },
    {
     "name": "stdout",
     "output_type": "stream",
     "text": [
      "[[1.         1.55326531]\n",
      " [1.         1.        ]]\n"
     ]
    },
    {
     "name": "stderr",
     "output_type": "stream",
     "text": [
      "100%|██████████| 2000/2000 [00:05<00:00, 361.61it/s]\n"
     ]
    },
    {
     "name": "stdout",
     "output_type": "stream",
     "text": [
      "[[1.         1.59387755]\n",
      " [1.         1.        ]]\n"
     ]
    },
    {
     "name": "stderr",
     "output_type": "stream",
     "text": [
      "100%|██████████| 2000/2000 [00:05<00:00, 360.52it/s]\n"
     ]
    },
    {
     "name": "stdout",
     "output_type": "stream",
     "text": [
      "[[1.        1.6344898]\n",
      " [1.        1.       ]]\n"
     ]
    },
    {
     "name": "stderr",
     "output_type": "stream",
     "text": [
      "100%|██████████| 2000/2000 [00:05<00:00, 361.35it/s]\n"
     ]
    },
    {
     "name": "stdout",
     "output_type": "stream",
     "text": [
      "[[1.         1.67510204]\n",
      " [1.         1.        ]]\n"
     ]
    },
    {
     "name": "stderr",
     "output_type": "stream",
     "text": [
      "100%|██████████| 2000/2000 [00:05<00:00, 361.19it/s]\n"
     ]
    },
    {
     "name": "stdout",
     "output_type": "stream",
     "text": [
      "[[1.         1.71571429]\n",
      " [1.         1.        ]]\n"
     ]
    },
    {
     "name": "stderr",
     "output_type": "stream",
     "text": [
      "100%|██████████| 2000/2000 [00:05<00:00, 360.63it/s]\n"
     ]
    },
    {
     "name": "stdout",
     "output_type": "stream",
     "text": [
      "[[1.         1.75632653]\n",
      " [1.         1.        ]]\n"
     ]
    },
    {
     "name": "stderr",
     "output_type": "stream",
     "text": [
      "100%|██████████| 2000/2000 [00:05<00:00, 361.05it/s]\n"
     ]
    },
    {
     "name": "stdout",
     "output_type": "stream",
     "text": [
      "[[1.         1.79693878]\n",
      " [1.         1.        ]]\n"
     ]
    },
    {
     "name": "stderr",
     "output_type": "stream",
     "text": [
      "100%|██████████| 2000/2000 [00:05<00:00, 360.86it/s]\n"
     ]
    },
    {
     "name": "stdout",
     "output_type": "stream",
     "text": [
      "[[1.         1.83755102]\n",
      " [1.         1.        ]]\n"
     ]
    },
    {
     "name": "stderr",
     "output_type": "stream",
     "text": [
      "100%|██████████| 2000/2000 [00:05<00:00, 361.63it/s]\n"
     ]
    },
    {
     "name": "stdout",
     "output_type": "stream",
     "text": [
      "[[1.         1.87816327]\n",
      " [1.         1.        ]]\n"
     ]
    },
    {
     "name": "stderr",
     "output_type": "stream",
     "text": [
      "100%|██████████| 2000/2000 [00:05<00:00, 361.23it/s]\n"
     ]
    },
    {
     "name": "stdout",
     "output_type": "stream",
     "text": [
      "[[1.         1.91877551]\n",
      " [1.         1.        ]]\n"
     ]
    },
    {
     "name": "stderr",
     "output_type": "stream",
     "text": [
      "100%|██████████| 2000/2000 [00:05<00:00, 360.36it/s]\n"
     ]
    },
    {
     "name": "stdout",
     "output_type": "stream",
     "text": [
      "[[1.         1.95938776]\n",
      " [1.         1.        ]]\n"
     ]
    },
    {
     "name": "stderr",
     "output_type": "stream",
     "text": [
      "100%|██████████| 2000/2000 [00:05<00:00, 360.22it/s]\n"
     ]
    },
    {
     "name": "stdout",
     "output_type": "stream",
     "text": [
      "[[1. 2.]\n",
      " [1. 1.]]\n"
     ]
    },
    {
     "name": "stderr",
     "output_type": "stream",
     "text": [
      "100%|██████████| 2000/2000 [00:05<00:00, 361.25it/s]\n"
     ]
    },
    {
     "name": "stdout",
     "output_type": "stream",
     "text": [
      "[[1.   1.  ]\n",
      " [0.01 1.  ]]\n"
     ]
    },
    {
     "name": "stderr",
     "output_type": "stream",
     "text": [
      "100%|██████████| 2000/2000 [00:05<00:00, 360.79it/s]\n"
     ]
    },
    {
     "name": "stdout",
     "output_type": "stream",
     "text": [
      "[[1.         1.        ]\n",
      " [0.05061224 1.        ]]\n"
     ]
    },
    {
     "name": "stderr",
     "output_type": "stream",
     "text": [
      "100%|██████████| 2000/2000 [00:05<00:00, 361.65it/s]\n"
     ]
    },
    {
     "name": "stdout",
     "output_type": "stream",
     "text": [
      "[[1.         1.        ]\n",
      " [0.09122449 1.        ]]\n"
     ]
    },
    {
     "name": "stderr",
     "output_type": "stream",
     "text": [
      "100%|██████████| 2000/2000 [00:05<00:00, 361.20it/s]\n"
     ]
    },
    {
     "name": "stdout",
     "output_type": "stream",
     "text": [
      "[[1.         1.        ]\n",
      " [0.13183673 1.        ]]\n"
     ]
    },
    {
     "name": "stderr",
     "output_type": "stream",
     "text": [
      "100%|██████████| 2000/2000 [00:05<00:00, 361.91it/s]\n"
     ]
    },
    {
     "name": "stdout",
     "output_type": "stream",
     "text": [
      "[[1.         1.        ]\n",
      " [0.17244898 1.        ]]\n"
     ]
    },
    {
     "name": "stderr",
     "output_type": "stream",
     "text": [
      "100%|██████████| 2000/2000 [00:05<00:00, 361.36it/s]\n"
     ]
    },
    {
     "name": "stdout",
     "output_type": "stream",
     "text": [
      "[[1.         1.        ]\n",
      " [0.21306122 1.        ]]\n"
     ]
    },
    {
     "name": "stderr",
     "output_type": "stream",
     "text": [
      "100%|██████████| 2000/2000 [00:05<00:00, 361.21it/s]\n"
     ]
    },
    {
     "name": "stdout",
     "output_type": "stream",
     "text": [
      "[[1.         1.        ]\n",
      " [0.25367347 1.        ]]\n"
     ]
    },
    {
     "name": "stderr",
     "output_type": "stream",
     "text": [
      "100%|██████████| 2000/2000 [00:05<00:00, 361.62it/s]\n"
     ]
    },
    {
     "name": "stdout",
     "output_type": "stream",
     "text": [
      "[[1.         1.        ]\n",
      " [0.29428571 1.        ]]\n"
     ]
    },
    {
     "name": "stderr",
     "output_type": "stream",
     "text": [
      "100%|██████████| 2000/2000 [00:05<00:00, 362.05it/s]\n"
     ]
    },
    {
     "name": "stdout",
     "output_type": "stream",
     "text": [
      "[[1.         1.        ]\n",
      " [0.33489796 1.        ]]\n"
     ]
    },
    {
     "name": "stderr",
     "output_type": "stream",
     "text": [
      "100%|██████████| 2000/2000 [00:05<00:00, 361.55it/s]\n"
     ]
    },
    {
     "name": "stdout",
     "output_type": "stream",
     "text": [
      "[[1.        1.       ]\n",
      " [0.3755102 1.       ]]\n"
     ]
    },
    {
     "name": "stderr",
     "output_type": "stream",
     "text": [
      "100%|██████████| 2000/2000 [00:05<00:00, 360.97it/s]\n"
     ]
    },
    {
     "name": "stdout",
     "output_type": "stream",
     "text": [
      "[[1.         1.        ]\n",
      " [0.41612245 1.        ]]\n"
     ]
    },
    {
     "name": "stderr",
     "output_type": "stream",
     "text": [
      "100%|██████████| 2000/2000 [00:05<00:00, 360.88it/s]\n"
     ]
    },
    {
     "name": "stdout",
     "output_type": "stream",
     "text": [
      "[[1.         1.        ]\n",
      " [0.45673469 1.        ]]\n"
     ]
    },
    {
     "name": "stderr",
     "output_type": "stream",
     "text": [
      "100%|██████████| 2000/2000 [00:05<00:00, 361.15it/s]\n"
     ]
    },
    {
     "name": "stdout",
     "output_type": "stream",
     "text": [
      "[[1.         1.        ]\n",
      " [0.49734694 1.        ]]\n"
     ]
    },
    {
     "name": "stderr",
     "output_type": "stream",
     "text": [
      "100%|██████████| 2000/2000 [00:05<00:00, 361.90it/s]\n"
     ]
    },
    {
     "name": "stdout",
     "output_type": "stream",
     "text": [
      "[[1.         1.        ]\n",
      " [0.53795918 1.        ]]\n"
     ]
    },
    {
     "name": "stderr",
     "output_type": "stream",
     "text": [
      "100%|██████████| 2000/2000 [00:05<00:00, 360.97it/s]\n"
     ]
    },
    {
     "name": "stdout",
     "output_type": "stream",
     "text": [
      "[[1.         1.        ]\n",
      " [0.57857143 1.        ]]\n"
     ]
    },
    {
     "name": "stderr",
     "output_type": "stream",
     "text": [
      "100%|██████████| 2000/2000 [00:05<00:00, 360.75it/s]\n"
     ]
    },
    {
     "name": "stdout",
     "output_type": "stream",
     "text": [
      "[[1.         1.        ]\n",
      " [0.61918367 1.        ]]\n"
     ]
    },
    {
     "name": "stderr",
     "output_type": "stream",
     "text": [
      "100%|██████████| 2000/2000 [00:05<00:00, 361.15it/s]\n"
     ]
    },
    {
     "name": "stdout",
     "output_type": "stream",
     "text": [
      "[[1.         1.        ]\n",
      " [0.65979592 1.        ]]\n"
     ]
    },
    {
     "name": "stderr",
     "output_type": "stream",
     "text": [
      "100%|██████████| 2000/2000 [00:05<00:00, 362.24it/s]\n"
     ]
    },
    {
     "name": "stdout",
     "output_type": "stream",
     "text": [
      "[[1.         1.        ]\n",
      " [0.70040816 1.        ]]\n"
     ]
    },
    {
     "name": "stderr",
     "output_type": "stream",
     "text": [
      "100%|██████████| 2000/2000 [00:05<00:00, 361.55it/s]\n"
     ]
    },
    {
     "name": "stdout",
     "output_type": "stream",
     "text": [
      "[[1.         1.        ]\n",
      " [0.74102041 1.        ]]\n"
     ]
    },
    {
     "name": "stderr",
     "output_type": "stream",
     "text": [
      "100%|██████████| 2000/2000 [00:05<00:00, 362.19it/s]\n"
     ]
    },
    {
     "name": "stdout",
     "output_type": "stream",
     "text": [
      "[[1.         1.        ]\n",
      " [0.78163265 1.        ]]\n"
     ]
    },
    {
     "name": "stderr",
     "output_type": "stream",
     "text": [
      "100%|██████████| 2000/2000 [00:05<00:00, 361.32it/s]\n"
     ]
    },
    {
     "name": "stdout",
     "output_type": "stream",
     "text": [
      "[[1.        1.       ]\n",
      " [0.8222449 1.       ]]\n"
     ]
    },
    {
     "name": "stderr",
     "output_type": "stream",
     "text": [
      "100%|██████████| 2000/2000 [00:05<00:00, 361.88it/s]\n"
     ]
    },
    {
     "name": "stdout",
     "output_type": "stream",
     "text": [
      "[[1.         1.        ]\n",
      " [0.86285714 1.        ]]\n"
     ]
    },
    {
     "name": "stderr",
     "output_type": "stream",
     "text": [
      "100%|██████████| 2000/2000 [00:05<00:00, 360.63it/s]\n"
     ]
    },
    {
     "name": "stdout",
     "output_type": "stream",
     "text": [
      "[[1.         1.        ]\n",
      " [0.90346939 1.        ]]\n"
     ]
    },
    {
     "name": "stderr",
     "output_type": "stream",
     "text": [
      "100%|██████████| 2000/2000 [00:05<00:00, 361.32it/s]\n"
     ]
    },
    {
     "name": "stdout",
     "output_type": "stream",
     "text": [
      "[[1.         1.        ]\n",
      " [0.94408163 1.        ]]\n"
     ]
    },
    {
     "name": "stderr",
     "output_type": "stream",
     "text": [
      "100%|██████████| 2000/2000 [00:05<00:00, 360.66it/s]\n"
     ]
    },
    {
     "name": "stdout",
     "output_type": "stream",
     "text": [
      "[[1.         1.        ]\n",
      " [0.98469388 1.        ]]\n"
     ]
    },
    {
     "name": "stderr",
     "output_type": "stream",
     "text": [
      "100%|██████████| 2000/2000 [00:05<00:00, 361.66it/s]\n"
     ]
    },
    {
     "name": "stdout",
     "output_type": "stream",
     "text": [
      "[[1.         1.        ]\n",
      " [1.02530612 1.        ]]\n"
     ]
    },
    {
     "name": "stderr",
     "output_type": "stream",
     "text": [
      "100%|██████████| 2000/2000 [00:05<00:00, 361.16it/s]\n"
     ]
    },
    {
     "name": "stdout",
     "output_type": "stream",
     "text": [
      "[[1.         1.        ]\n",
      " [1.06591837 1.        ]]\n"
     ]
    },
    {
     "name": "stderr",
     "output_type": "stream",
     "text": [
      "100%|██████████| 2000/2000 [00:05<00:00, 361.92it/s]\n"
     ]
    },
    {
     "name": "stdout",
     "output_type": "stream",
     "text": [
      "[[1.         1.        ]\n",
      " [1.10653061 1.        ]]\n"
     ]
    },
    {
     "name": "stderr",
     "output_type": "stream",
     "text": [
      "100%|██████████| 2000/2000 [00:05<00:00, 360.69it/s]\n"
     ]
    },
    {
     "name": "stdout",
     "output_type": "stream",
     "text": [
      "[[1.         1.        ]\n",
      " [1.14714286 1.        ]]\n"
     ]
    },
    {
     "name": "stderr",
     "output_type": "stream",
     "text": [
      "100%|██████████| 2000/2000 [00:05<00:00, 361.35it/s]\n"
     ]
    },
    {
     "name": "stdout",
     "output_type": "stream",
     "text": [
      "[[1.        1.       ]\n",
      " [1.1877551 1.       ]]\n"
     ]
    },
    {
     "name": "stderr",
     "output_type": "stream",
     "text": [
      "100%|██████████| 2000/2000 [00:05<00:00, 361.48it/s]\n"
     ]
    },
    {
     "name": "stdout",
     "output_type": "stream",
     "text": [
      "[[1.         1.        ]\n",
      " [1.22836735 1.        ]]\n"
     ]
    },
    {
     "name": "stderr",
     "output_type": "stream",
     "text": [
      "100%|██████████| 2000/2000 [00:05<00:00, 360.59it/s]\n"
     ]
    },
    {
     "name": "stdout",
     "output_type": "stream",
     "text": [
      "[[1.         1.        ]\n",
      " [1.26897959 1.        ]]\n"
     ]
    },
    {
     "name": "stderr",
     "output_type": "stream",
     "text": [
      "100%|██████████| 2000/2000 [00:05<00:00, 359.82it/s]\n"
     ]
    },
    {
     "name": "stdout",
     "output_type": "stream",
     "text": [
      "[[1.         1.        ]\n",
      " [1.30959184 1.        ]]\n"
     ]
    },
    {
     "name": "stderr",
     "output_type": "stream",
     "text": [
      "100%|██████████| 2000/2000 [00:05<00:00, 359.84it/s]\n"
     ]
    },
    {
     "name": "stdout",
     "output_type": "stream",
     "text": [
      "[[1.         1.        ]\n",
      " [1.35020408 1.        ]]\n"
     ]
    },
    {
     "name": "stderr",
     "output_type": "stream",
     "text": [
      "100%|██████████| 2000/2000 [00:05<00:00, 360.88it/s]\n"
     ]
    },
    {
     "name": "stdout",
     "output_type": "stream",
     "text": [
      "[[1.         1.        ]\n",
      " [1.39081633 1.        ]]\n"
     ]
    },
    {
     "name": "stderr",
     "output_type": "stream",
     "text": [
      "100%|██████████| 2000/2000 [00:05<00:00, 360.47it/s]\n"
     ]
    },
    {
     "name": "stdout",
     "output_type": "stream",
     "text": [
      "[[1.         1.        ]\n",
      " [1.43142857 1.        ]]\n"
     ]
    },
    {
     "name": "stderr",
     "output_type": "stream",
     "text": [
      "100%|██████████| 2000/2000 [00:05<00:00, 360.03it/s]\n"
     ]
    },
    {
     "name": "stdout",
     "output_type": "stream",
     "text": [
      "[[1.         1.        ]\n",
      " [1.47204082 1.        ]]\n"
     ]
    },
    {
     "name": "stderr",
     "output_type": "stream",
     "text": [
      "100%|██████████| 2000/2000 [00:05<00:00, 359.86it/s]\n"
     ]
    },
    {
     "name": "stdout",
     "output_type": "stream",
     "text": [
      "[[1.         1.        ]\n",
      " [1.51265306 1.        ]]\n"
     ]
    },
    {
     "name": "stderr",
     "output_type": "stream",
     "text": [
      "100%|██████████| 2000/2000 [00:05<00:00, 360.06it/s]\n"
     ]
    },
    {
     "name": "stdout",
     "output_type": "stream",
     "text": [
      "[[1.         1.        ]\n",
      " [1.55326531 1.        ]]\n"
     ]
    },
    {
     "name": "stderr",
     "output_type": "stream",
     "text": [
      "100%|██████████| 2000/2000 [00:05<00:00, 360.30it/s]\n"
     ]
    },
    {
     "name": "stdout",
     "output_type": "stream",
     "text": [
      "[[1.         1.        ]\n",
      " [1.59387755 1.        ]]\n"
     ]
    },
    {
     "name": "stderr",
     "output_type": "stream",
     "text": [
      "100%|██████████| 2000/2000 [00:05<00:00, 360.56it/s]\n"
     ]
    },
    {
     "name": "stdout",
     "output_type": "stream",
     "text": [
      "[[1.        1.       ]\n",
      " [1.6344898 1.       ]]\n"
     ]
    },
    {
     "name": "stderr",
     "output_type": "stream",
     "text": [
      "100%|██████████| 2000/2000 [00:05<00:00, 360.85it/s]\n"
     ]
    },
    {
     "name": "stdout",
     "output_type": "stream",
     "text": [
      "[[1.         1.        ]\n",
      " [1.67510204 1.        ]]\n"
     ]
    },
    {
     "name": "stderr",
     "output_type": "stream",
     "text": [
      "100%|██████████| 2000/2000 [00:05<00:00, 360.67it/s]\n"
     ]
    },
    {
     "name": "stdout",
     "output_type": "stream",
     "text": [
      "[[1.         1.        ]\n",
      " [1.71571429 1.        ]]\n"
     ]
    },
    {
     "name": "stderr",
     "output_type": "stream",
     "text": [
      "100%|██████████| 2000/2000 [00:05<00:00, 360.80it/s]\n"
     ]
    },
    {
     "name": "stdout",
     "output_type": "stream",
     "text": [
      "[[1.         1.        ]\n",
      " [1.75632653 1.        ]]\n"
     ]
    },
    {
     "name": "stderr",
     "output_type": "stream",
     "text": [
      "100%|██████████| 2000/2000 [00:05<00:00, 359.87it/s]\n"
     ]
    },
    {
     "name": "stdout",
     "output_type": "stream",
     "text": [
      "[[1.         1.        ]\n",
      " [1.79693878 1.        ]]\n"
     ]
    },
    {
     "name": "stderr",
     "output_type": "stream",
     "text": [
      "100%|██████████| 2000/2000 [00:05<00:00, 362.01it/s]\n"
     ]
    },
    {
     "name": "stdout",
     "output_type": "stream",
     "text": [
      "[[1.         1.        ]\n",
      " [1.83755102 1.        ]]\n"
     ]
    },
    {
     "name": "stderr",
     "output_type": "stream",
     "text": [
      "100%|██████████| 2000/2000 [00:05<00:00, 362.67it/s]\n"
     ]
    },
    {
     "name": "stdout",
     "output_type": "stream",
     "text": [
      "[[1.         1.        ]\n",
      " [1.87816327 1.        ]]\n"
     ]
    },
    {
     "name": "stderr",
     "output_type": "stream",
     "text": [
      "100%|██████████| 2000/2000 [00:05<00:00, 362.69it/s]\n"
     ]
    },
    {
     "name": "stdout",
     "output_type": "stream",
     "text": [
      "[[1.         1.        ]\n",
      " [1.91877551 1.        ]]\n"
     ]
    },
    {
     "name": "stderr",
     "output_type": "stream",
     "text": [
      "100%|██████████| 2000/2000 [00:05<00:00, 362.41it/s]\n"
     ]
    },
    {
     "name": "stdout",
     "output_type": "stream",
     "text": [
      "[[1.         1.        ]\n",
      " [1.95938776 1.        ]]\n"
     ]
    },
    {
     "name": "stderr",
     "output_type": "stream",
     "text": [
      "100%|██████████| 2000/2000 [00:05<00:00, 362.14it/s]\n"
     ]
    },
    {
     "name": "stdout",
     "output_type": "stream",
     "text": [
      "[[1. 1.]\n",
      " [2. 1.]]\n"
     ]
    },
    {
     "name": "stderr",
     "output_type": "stream",
     "text": [
      "100%|██████████| 2000/2000 [00:05<00:00, 362.19it/s]\n"
     ]
    },
    {
     "name": "stdout",
     "output_type": "stream",
     "text": [
      "[[1.   1.  ]\n",
      " [1.   0.01]]\n"
     ]
    },
    {
     "name": "stderr",
     "output_type": "stream",
     "text": [
      "100%|██████████| 2000/2000 [00:05<00:00, 362.47it/s]\n"
     ]
    },
    {
     "name": "stdout",
     "output_type": "stream",
     "text": [
      "[[1.         1.        ]\n",
      " [1.         0.05061224]]\n"
     ]
    },
    {
     "name": "stderr",
     "output_type": "stream",
     "text": [
      "100%|██████████| 2000/2000 [00:05<00:00, 363.54it/s]\n"
     ]
    },
    {
     "name": "stdout",
     "output_type": "stream",
     "text": [
      "[[1.         1.        ]\n",
      " [1.         0.09122449]]\n"
     ]
    },
    {
     "name": "stderr",
     "output_type": "stream",
     "text": [
      "100%|██████████| 2000/2000 [00:05<00:00, 363.25it/s]\n"
     ]
    },
    {
     "name": "stdout",
     "output_type": "stream",
     "text": [
      "[[1.         1.        ]\n",
      " [1.         0.13183673]]\n"
     ]
    },
    {
     "name": "stderr",
     "output_type": "stream",
     "text": [
      "100%|██████████| 2000/2000 [00:05<00:00, 363.24it/s]\n"
     ]
    },
    {
     "name": "stdout",
     "output_type": "stream",
     "text": [
      "[[1.         1.        ]\n",
      " [1.         0.17244898]]\n"
     ]
    },
    {
     "name": "stderr",
     "output_type": "stream",
     "text": [
      "100%|██████████| 2000/2000 [00:05<00:00, 364.53it/s]\n"
     ]
    },
    {
     "name": "stdout",
     "output_type": "stream",
     "text": [
      "[[1.         1.        ]\n",
      " [1.         0.21306122]]\n"
     ]
    },
    {
     "name": "stderr",
     "output_type": "stream",
     "text": [
      "100%|██████████| 2000/2000 [00:05<00:00, 363.90it/s]\n"
     ]
    },
    {
     "name": "stdout",
     "output_type": "stream",
     "text": [
      "[[1.         1.        ]\n",
      " [1.         0.25367347]]\n"
     ]
    },
    {
     "name": "stderr",
     "output_type": "stream",
     "text": [
      "100%|██████████| 2000/2000 [00:05<00:00, 365.11it/s]\n"
     ]
    },
    {
     "name": "stdout",
     "output_type": "stream",
     "text": [
      "[[1.         1.        ]\n",
      " [1.         0.29428571]]\n"
     ]
    },
    {
     "name": "stderr",
     "output_type": "stream",
     "text": [
      "100%|██████████| 2000/2000 [00:05<00:00, 364.84it/s]\n"
     ]
    },
    {
     "name": "stdout",
     "output_type": "stream",
     "text": [
      "[[1.         1.        ]\n",
      " [1.         0.33489796]]\n"
     ]
    },
    {
     "name": "stderr",
     "output_type": "stream",
     "text": [
      "100%|██████████| 2000/2000 [00:05<00:00, 364.71it/s]\n"
     ]
    },
    {
     "name": "stdout",
     "output_type": "stream",
     "text": [
      "[[1.        1.       ]\n",
      " [1.        0.3755102]]\n"
     ]
    },
    {
     "name": "stderr",
     "output_type": "stream",
     "text": [
      "100%|██████████| 2000/2000 [00:05<00:00, 363.96it/s]\n"
     ]
    },
    {
     "name": "stdout",
     "output_type": "stream",
     "text": [
      "[[1.         1.        ]\n",
      " [1.         0.41612245]]\n"
     ]
    },
    {
     "name": "stderr",
     "output_type": "stream",
     "text": [
      "100%|██████████| 2000/2000 [00:05<00:00, 364.98it/s]\n"
     ]
    },
    {
     "name": "stdout",
     "output_type": "stream",
     "text": [
      "[[1.         1.        ]\n",
      " [1.         0.45673469]]\n"
     ]
    },
    {
     "name": "stderr",
     "output_type": "stream",
     "text": [
      "100%|██████████| 2000/2000 [00:05<00:00, 365.33it/s]\n"
     ]
    },
    {
     "name": "stdout",
     "output_type": "stream",
     "text": [
      "[[1.         1.        ]\n",
      " [1.         0.49734694]]\n"
     ]
    },
    {
     "name": "stderr",
     "output_type": "stream",
     "text": [
      "100%|██████████| 2000/2000 [00:05<00:00, 364.33it/s]\n"
     ]
    },
    {
     "name": "stdout",
     "output_type": "stream",
     "text": [
      "[[1.         1.        ]\n",
      " [1.         0.53795918]]\n"
     ]
    },
    {
     "name": "stderr",
     "output_type": "stream",
     "text": [
      "100%|██████████| 2000/2000 [00:05<00:00, 364.81it/s]\n"
     ]
    },
    {
     "name": "stdout",
     "output_type": "stream",
     "text": [
      "[[1.         1.        ]\n",
      " [1.         0.57857143]]\n"
     ]
    },
    {
     "name": "stderr",
     "output_type": "stream",
     "text": [
      "100%|██████████| 2000/2000 [00:05<00:00, 364.74it/s]\n"
     ]
    },
    {
     "name": "stdout",
     "output_type": "stream",
     "text": [
      "[[1.         1.        ]\n",
      " [1.         0.61918367]]\n"
     ]
    },
    {
     "name": "stderr",
     "output_type": "stream",
     "text": [
      "100%|██████████| 2000/2000 [00:05<00:00, 363.98it/s]\n"
     ]
    },
    {
     "name": "stdout",
     "output_type": "stream",
     "text": [
      "[[1.         1.        ]\n",
      " [1.         0.65979592]]\n"
     ]
    },
    {
     "name": "stderr",
     "output_type": "stream",
     "text": [
      "100%|██████████| 2000/2000 [00:05<00:00, 364.60it/s]\n"
     ]
    },
    {
     "name": "stdout",
     "output_type": "stream",
     "text": [
      "[[1.         1.        ]\n",
      " [1.         0.70040816]]\n"
     ]
    },
    {
     "name": "stderr",
     "output_type": "stream",
     "text": [
      "100%|██████████| 2000/2000 [00:05<00:00, 364.70it/s]\n"
     ]
    },
    {
     "name": "stdout",
     "output_type": "stream",
     "text": [
      "[[1.         1.        ]\n",
      " [1.         0.74102041]]\n"
     ]
    },
    {
     "name": "stderr",
     "output_type": "stream",
     "text": [
      "100%|██████████| 2000/2000 [00:05<00:00, 364.72it/s]\n"
     ]
    },
    {
     "name": "stdout",
     "output_type": "stream",
     "text": [
      "[[1.         1.        ]\n",
      " [1.         0.78163265]]\n"
     ]
    },
    {
     "name": "stderr",
     "output_type": "stream",
     "text": [
      "100%|██████████| 2000/2000 [00:05<00:00, 364.37it/s]\n"
     ]
    },
    {
     "name": "stdout",
     "output_type": "stream",
     "text": [
      "[[1.        1.       ]\n",
      " [1.        0.8222449]]\n"
     ]
    },
    {
     "name": "stderr",
     "output_type": "stream",
     "text": [
      "100%|██████████| 2000/2000 [00:05<00:00, 364.39it/s]\n"
     ]
    },
    {
     "name": "stdout",
     "output_type": "stream",
     "text": [
      "[[1.         1.        ]\n",
      " [1.         0.86285714]]\n"
     ]
    },
    {
     "name": "stderr",
     "output_type": "stream",
     "text": [
      "100%|██████████| 2000/2000 [00:05<00:00, 364.78it/s]\n"
     ]
    },
    {
     "name": "stdout",
     "output_type": "stream",
     "text": [
      "[[1.         1.        ]\n",
      " [1.         0.90346939]]\n"
     ]
    },
    {
     "name": "stderr",
     "output_type": "stream",
     "text": [
      "100%|██████████| 2000/2000 [00:05<00:00, 364.26it/s]\n"
     ]
    },
    {
     "name": "stdout",
     "output_type": "stream",
     "text": [
      "[[1.         1.        ]\n",
      " [1.         0.94408163]]\n"
     ]
    },
    {
     "name": "stderr",
     "output_type": "stream",
     "text": [
      "100%|██████████| 2000/2000 [00:05<00:00, 364.69it/s]\n"
     ]
    },
    {
     "name": "stdout",
     "output_type": "stream",
     "text": [
      "[[1.         1.        ]\n",
      " [1.         0.98469388]]\n"
     ]
    },
    {
     "name": "stderr",
     "output_type": "stream",
     "text": [
      "100%|██████████| 2000/2000 [00:05<00:00, 363.96it/s]\n"
     ]
    },
    {
     "name": "stdout",
     "output_type": "stream",
     "text": [
      "[[1.         1.        ]\n",
      " [1.         1.02530612]]\n"
     ]
    },
    {
     "name": "stderr",
     "output_type": "stream",
     "text": [
      "100%|██████████| 2000/2000 [00:05<00:00, 364.05it/s]\n"
     ]
    },
    {
     "name": "stdout",
     "output_type": "stream",
     "text": [
      "[[1.         1.        ]\n",
      " [1.         1.06591837]]\n"
     ]
    },
    {
     "name": "stderr",
     "output_type": "stream",
     "text": [
      "100%|██████████| 2000/2000 [00:05<00:00, 363.31it/s]\n"
     ]
    },
    {
     "name": "stdout",
     "output_type": "stream",
     "text": [
      "[[1.         1.        ]\n",
      " [1.         1.10653061]]\n"
     ]
    },
    {
     "name": "stderr",
     "output_type": "stream",
     "text": [
      "100%|██████████| 2000/2000 [00:05<00:00, 363.23it/s]\n"
     ]
    },
    {
     "name": "stdout",
     "output_type": "stream",
     "text": [
      "[[1.         1.        ]\n",
      " [1.         1.14714286]]\n"
     ]
    },
    {
     "name": "stderr",
     "output_type": "stream",
     "text": [
      "100%|██████████| 2000/2000 [00:05<00:00, 363.36it/s]\n"
     ]
    },
    {
     "name": "stdout",
     "output_type": "stream",
     "text": [
      "[[1.        1.       ]\n",
      " [1.        1.1877551]]\n"
     ]
    },
    {
     "name": "stderr",
     "output_type": "stream",
     "text": [
      "100%|██████████| 2000/2000 [00:05<00:00, 363.68it/s]\n"
     ]
    },
    {
     "name": "stdout",
     "output_type": "stream",
     "text": [
      "[[1.         1.        ]\n",
      " [1.         1.22836735]]\n"
     ]
    },
    {
     "name": "stderr",
     "output_type": "stream",
     "text": [
      "100%|██████████| 2000/2000 [00:05<00:00, 363.81it/s]\n"
     ]
    },
    {
     "name": "stdout",
     "output_type": "stream",
     "text": [
      "[[1.         1.        ]\n",
      " [1.         1.26897959]]\n"
     ]
    },
    {
     "name": "stderr",
     "output_type": "stream",
     "text": [
      "100%|██████████| 2000/2000 [00:05<00:00, 365.09it/s]\n"
     ]
    },
    {
     "name": "stdout",
     "output_type": "stream",
     "text": [
      "[[1.         1.        ]\n",
      " [1.         1.30959184]]\n"
     ]
    },
    {
     "name": "stderr",
     "output_type": "stream",
     "text": [
      "100%|██████████| 2000/2000 [00:05<00:00, 363.87it/s]\n"
     ]
    },
    {
     "name": "stdout",
     "output_type": "stream",
     "text": [
      "[[1.         1.        ]\n",
      " [1.         1.35020408]]\n"
     ]
    },
    {
     "name": "stderr",
     "output_type": "stream",
     "text": [
      "100%|██████████| 2000/2000 [00:05<00:00, 363.45it/s]\n"
     ]
    },
    {
     "name": "stdout",
     "output_type": "stream",
     "text": [
      "[[1.         1.        ]\n",
      " [1.         1.39081633]]\n"
     ]
    },
    {
     "name": "stderr",
     "output_type": "stream",
     "text": [
      "100%|██████████| 2000/2000 [00:05<00:00, 364.56it/s]\n"
     ]
    },
    {
     "name": "stdout",
     "output_type": "stream",
     "text": [
      "[[1.         1.        ]\n",
      " [1.         1.43142857]]\n"
     ]
    },
    {
     "name": "stderr",
     "output_type": "stream",
     "text": [
      "100%|██████████| 2000/2000 [00:05<00:00, 364.16it/s]\n"
     ]
    },
    {
     "name": "stdout",
     "output_type": "stream",
     "text": [
      "[[1.         1.        ]\n",
      " [1.         1.47204082]]\n"
     ]
    },
    {
     "name": "stderr",
     "output_type": "stream",
     "text": [
      "100%|██████████| 2000/2000 [00:05<00:00, 364.39it/s]\n"
     ]
    },
    {
     "name": "stdout",
     "output_type": "stream",
     "text": [
      "[[1.         1.        ]\n",
      " [1.         1.51265306]]\n"
     ]
    },
    {
     "name": "stderr",
     "output_type": "stream",
     "text": [
      "100%|██████████| 2000/2000 [00:05<00:00, 364.53it/s]\n"
     ]
    },
    {
     "name": "stdout",
     "output_type": "stream",
     "text": [
      "[[1.         1.        ]\n",
      " [1.         1.55326531]]\n"
     ]
    },
    {
     "name": "stderr",
     "output_type": "stream",
     "text": [
      "100%|██████████| 2000/2000 [00:05<00:00, 364.03it/s]\n"
     ]
    },
    {
     "name": "stdout",
     "output_type": "stream",
     "text": [
      "[[1.         1.        ]\n",
      " [1.         1.59387755]]\n"
     ]
    },
    {
     "name": "stderr",
     "output_type": "stream",
     "text": [
      "100%|██████████| 2000/2000 [00:05<00:00, 363.87it/s]\n"
     ]
    },
    {
     "name": "stdout",
     "output_type": "stream",
     "text": [
      "[[1.        1.       ]\n",
      " [1.        1.6344898]]\n"
     ]
    },
    {
     "name": "stderr",
     "output_type": "stream",
     "text": [
      " 67%|██████▋   | 1334/2000 [00:03<00:01, 363.85it/s]"
     ]
    }
   ],
   "source": [
    "import numpy as np\n",
    "import pandas as pd\n",
    "import pickle\n",
    "import random\n",
    "import sys, time\n",
    "from functions import production_function, regularise, wage_function, demand_function, innovate, generate_nested_matrix, visualize_multi_layer_trade_network, array_to_dataframe\n",
    "from tradeutils import doAllTrades\n",
    "from pricing import updatePricesAndConsume\n",
    "from tqdm import tqdm\n",
    "from agents_vec import gulden_vectorised\n",
    "import matplotlib.pyplot as plt\n",
    "from matplotlib.gridspec import GridSpec\n",
    "\n",
    "# Constants\n",
    "np.random.seed(1)\n",
    "case = '2x2'\n",
    "iterations = 2000\n",
    "n_countries = 2\n",
    "n_products = 2\n",
    "countries = ['{i}'.format(i=i) for i in range(n_countries)]\n",
    "products = ['{i}'.format(i=i) for i in range(n_products)]\n",
    "alpha = np.ones((n_countries, n_products)) * 0.5\n",
    "beta = np.ones((n_countries, n_products)) * 0.5\n",
    "A_test = np.ones((n_countries, n_products))\n",
    "share = np.ones(n_countries)\n",
    "citizens_per_nation= [100,100]\n",
    "\n",
    "# Parameters for the experiment\n",
    "value_range = np.linspace(0.01, 2.0, 50)  # Range of values to test for each element in A\n",
    "results = np.zeros((n_countries, n_products, len(value_range), n_countries*n_products))\n",
    "\n",
    "# Run the experiment\n",
    "for i in range(n_countries):\n",
    "    for j in range(n_products):\n",
    "        idx = i*n_products + j\n",
    "        original_value = A_test[i, j]\n",
    "        for k, value in enumerate(value_range):\n",
    "            A_test[i, j] = value\n",
    "            print(A_test)\n",
    "            production,_,_,_,_ = gulden_vectorised(case='test_o', n_countries=n_countries, n_products=n_products, countries=countries, products=products, \n",
    "                                                citizens_per_nation=citizens_per_nation, A=A_test, alpha=alpha, beta=beta, share=share, \n",
    "                                                iterations=iterations, Tr_time=1, cm_time=1, trade_change=0.02, autarky_time=15000, pricing_algorithm='cpmu', \n",
    "                                                utility_algorithm='geometric', wage_algorithm='marginal_product', csv=False, plot=False)\n",
    "            \n",
    "            results[i,j,k,:] = production.flatten()\n",
    "        A_test[i, j] = 1  # Reset the value after testing\n",
    "\n",
    "# Now, plotting the matrix of scatter plots to show the results\n",
    "fig = plt.figure(figsize=(10, 10))\n",
    "gs = GridSpec(n_countries, n_products, figure=fig)\n",
    "\n",
    "for i in range(n_countries):\n",
    "    for j in range(n_products):\n",
    "        ax = fig.add_subplot(gs[i, j])\n",
    "        for n in range(n_countries*n_products):\n",
    "            ax.scatter(value_range, results[i,j,:,n], label=f'Country {n // n_products}, Product {n % n_products}')\n",
    "        ax.set_title(f'Country {i}, Product {j}')\n",
    "        ax.set_xlabel('Value of A element')\n",
    "        ax.set_ylabel('steady-state Production')\n",
    "        ax.legend()\n",
    "\n",
    "plt.tight_layout()\n",
    "plt.show()\n",
    "fig.savefig('/rds/general/user/nk821/home/anaconda3/CCS/ABM/Gulden/vectorised_tests/plots/sensitivity_2x2_production.png')"
   ]
  },
  {
   "cell_type": "markdown",
   "metadata": {},
   "source": [
    "# 1.3 Net Exports - alpha"
   ]
  },
  {
   "cell_type": "code",
   "execution_count": null,
   "metadata": {},
   "outputs": [],
   "source": [
    "import numpy as np\n",
    "import pandas as pd\n",
    "import pickle\n",
    "import random\n",
    "import sys, time\n",
    "from functions import production_function, regularise, wage_function, demand_function, innovate, generate_nested_matrix, visualize_multi_layer_trade_network, array_to_dataframe\n",
    "from tradeutils import doAllTrades\n",
    "from pricing import updatePricesAndConsume\n",
    "from tqdm import tqdm\n",
    "from agents_vec import gulden_vectorised\n",
    "import matplotlib.pyplot as plt\n",
    "from matplotlib.gridspec import GridSpec\n",
    "\n",
    "# Constants\n",
    "np.random.seed(1)\n",
    "case = '2x2'\n",
    "iterations = 2000\n",
    "n_countries = 2\n",
    "n_products = 2\n",
    "countries = ['{i}'.format(i=i) for i in range(n_countries)]\n",
    "products = ['{i}'.format(i=i) for i in range(n_products)]\n",
    "alpha_test = np.ones((n_countries, n_products)) * 0.5\n",
    "beta = np.ones((n_countries, n_products)) * 0.5\n",
    "A = np.ones((n_countries, n_products))\n",
    "share = np.ones(n_countries)\n",
    "citizens_per_nation= [100,100]\n",
    "\n",
    "# Parameters for the experiment\n",
    "value_range = np.linspace(0.01, 0.99, 50)  # Range of values to test for each element in A\n",
    "results = np.zeros((n_countries, n_products, len(value_range), n_countries*n_products))\n",
    "\n",
    "# Run the experiment\n",
    "for i in range(n_countries):\n",
    "    for j in range(n_products):\n",
    "        idx = i*n_products + j\n",
    "        original_value = alpha_test[i, j]\n",
    "        for k, value in enumerate(value_range):\n",
    "            alpha_test[i, j] = value\n",
    "            print(alpha_test)\n",
    "            _,_,ss_exports,_,_ = gulden_vectorised(case='test_o', n_countries=n_countries, n_products=n_products, countries=countries, products=products, \n",
    "                                                citizens_per_nation=citizens_per_nation, A=A, alpha=alpha_test, beta=beta, share=share, \n",
    "                                                iterations=iterations, Tr_time=1, cm_time=1, trade_change=0.02, autarky_time=15000, pricing_algorithm='cpmu', \n",
    "                                                utility_algorithm='geometric', wage_algorithm='marginal_product', csv=False, plot=False)\n",
    "            \n",
    "            results[i,j,k,:] = ss_exports.flatten()\n",
    "        alpha_test[i, j] = 0.5  # Reset the value after testing\n",
    "\n",
    "# Now, plotting the matrix of scatter plots to show the results\n",
    "fig = plt.figure(figsize=(10, 10))\n",
    "gs = GridSpec(n_countries, n_products, figure=fig)\n",
    "\n",
    "for i in range(n_countries):\n",
    "    for j in range(n_products):\n",
    "        ax = fig.add_subplot(gs[i, j])\n",
    "        for n in range(n_countries*n_products):\n",
    "            ax.scatter(value_range, results[i,j,:,n], label=f'Country {n // n_products}, Product {n % n_products}')\n",
    "        ax.set_title(f'Country {i}, Product {j}')\n",
    "        ax.set_xlabel('alpha-{},{}'.format(i,j))\n",
    "        ax.set_ylabel('steady-state Exports')\n",
    "        ax.axvline(x=0.5, c='k', ls='--')\n",
    "        ax.legend()\n",
    "\n",
    "plt.tight_layout()\n",
    "plt.show()\n",
    "fig.savefig('/rds/general/user/nk821/home/anaconda3/CCS/ABM/Gulden/vectorised_tests/plots/sensitivity_2x2_exports_alpha.png')"
   ]
  },
  {
   "cell_type": "markdown",
   "metadata": {},
   "source": [
    "# 1.4 Production - alpha"
   ]
  },
  {
   "cell_type": "code",
   "execution_count": null,
   "metadata": {},
   "outputs": [],
   "source": [
    "import numpy as np\n",
    "import pandas as pd\n",
    "import pickle\n",
    "import random\n",
    "import sys, time\n",
    "from functions import production_function, regularise, wage_function, demand_function, innovate, generate_nested_matrix, visualize_multi_layer_trade_network, array_to_dataframe\n",
    "from tradeutils import doAllTrades\n",
    "from pricing import updatePricesAndConsume\n",
    "from tqdm import tqdm\n",
    "from agents_vec import gulden_vectorised\n",
    "import matplotlib.pyplot as plt\n",
    "from matplotlib.gridspec import GridSpec\n",
    "\n",
    "# Constants\n",
    "np.random.seed(1)\n",
    "case = '2x2'\n",
    "iterations = 2000\n",
    "n_countries = 2\n",
    "n_products = 2\n",
    "countries = ['{i}'.format(i=i) for i in range(n_countries)]\n",
    "products = ['{i}'.format(i=i) for i in range(n_products)]\n",
    "alpha_test = np.ones((n_countries, n_products)) * 0.5\n",
    "beta = np.ones((n_countries, n_products)) * 0.5\n",
    "A = np.ones((n_countries, n_products))\n",
    "share = np.ones(n_countries)\n",
    "citizens_per_nation= [100,100]\n",
    "\n",
    "# Parameters for the experiment\n",
    "value_range = np.linspace(0.01, 0.99, 50)  # Range of values to test for each element in A\n",
    "results = np.zeros((n_countries, n_products, len(value_range), n_countries*n_products))\n",
    "\n",
    "# Run the experiment\n",
    "for i in range(n_countries):\n",
    "    for j in range(n_products):\n",
    "        idx = i*n_products + j\n",
    "        original_value = alpha_test[i, j]\n",
    "        for k, value in enumerate(value_range):\n",
    "            alpha_test[i, j] = value\n",
    "            print(alpha_test)\n",
    "            production,_,_,_,_ = gulden_vectorised(case='test_o', n_countries=n_countries, n_products=n_products, countries=countries, products=products, \n",
    "                                                citizens_per_nation=citizens_per_nation, A=A, alpha=alpha_test, beta=beta, share=share, \n",
    "                                                iterations=iterations, Tr_time=1, cm_time=1, trade_change=0.02, autarky_time=15000, pricing_algorithm='cpmu', \n",
    "                                                utility_algorithm='geometric', wage_algorithm='marginal_product', csv=False, plot=False)\n",
    "            \n",
    "            results[i,j,k,:] = production.flatten()\n",
    "        alpha_test[i, j] = 0.5  # Reset the value after testing\n",
    "\n",
    "# Now, plotting the matrix of scatter plots to show the results\n",
    "fig = plt.figure(figsize=(10, 10))\n",
    "gs = GridSpec(n_countries, n_products, figure=fig)\n",
    "\n",
    "for i in range(n_countries):\n",
    "    for j in range(n_products):\n",
    "        ax = fig.add_subplot(gs[i, j])\n",
    "        for n in range(n_countries*n_products):\n",
    "            ax.scatter(value_range, results[i,j,:,n], label=f'Country {n // n_products}, Product {n % n_products}')\n",
    "        ax.set_title(f'Country {i}, Product {j}')\n",
    "        ax.set_xlabel('alpha-{},{}'.format(i,j))\n",
    "        ax.set_ylabel('steady-state Production')\n",
    "        ax.axvline(x=0.5, c='k', ls='--')\n",
    "        ax.legend()\n",
    "\n",
    "plt.tight_layout()\n",
    "plt.show()\n",
    "fig.savefig('/rds/general/user/nk821/home/anaconda3/CCS/ABM/Gulden/vectorised_tests/plots/sensitivity_2x2_production_alpha.png')"
   ]
  },
  {
   "cell_type": "markdown",
   "metadata": {},
   "source": [
    "# 1.5 Production - beta"
   ]
  },
  {
   "cell_type": "code",
   "execution_count": null,
   "metadata": {},
   "outputs": [],
   "source": [
    "import numpy as np\n",
    "import pandas as pd\n",
    "import pickle\n",
    "import random\n",
    "import sys, time\n",
    "from functions import production_function, regularise, wage_function, demand_function, innovate, generate_nested_matrix, visualize_multi_layer_trade_network, array_to_dataframe\n",
    "from tradeutils import doAllTrades\n",
    "from pricing import updatePricesAndConsume\n",
    "from tqdm import tqdm\n",
    "from agents_vec import gulden_vectorised\n",
    "import matplotlib.pyplot as plt\n",
    "from matplotlib.gridspec import GridSpec\n",
    "\n",
    "# Constants\n",
    "np.random.seed(1)\n",
    "case = '2x2'\n",
    "iterations = 2000\n",
    "n_countries = 2\n",
    "n_products = 2\n",
    "countries = ['{i}'.format(i=i) for i in range(n_countries)]\n",
    "products = ['{i}'.format(i=i) for i in range(n_products)]\n",
    "alpha = np.ones((n_countries, n_products)) * 0.5\n",
    "beta_test = np.ones((n_countries, n_products)) * 0.5\n",
    "A = np.ones((n_countries, n_products))\n",
    "share = np.ones(n_countries)\n",
    "citizens_per_nation= [100,100]\n",
    "\n",
    "# Parameters for the experiment\n",
    "value_range = np.linspace(0.01, 0.99, 50)  # Range of values to test for each element in A\n",
    "results = np.zeros((n_countries, n_products, len(value_range), n_countries*n_products))\n",
    "\n",
    "# Run the experiment\n",
    "for i in range(n_countries):\n",
    "    for j in range(n_products):\n",
    "        idx = i*n_products + j\n",
    "        original_value = alpha_test[i, j]\n",
    "        for k, value in enumerate(value_range):\n",
    "            alpha_test[i, j] = value\n",
    "#             print(beta_test)\n",
    "            production, _, _, _, _ = gulden_vectorised(case='test_o', n_countries=n_countries, n_products=n_products, countries=countries, products=products, \n",
    "                                                citizens_per_nation=citizens_per_nation, A=A, alpha=alpha, beta=beta_test, share=share, \n",
    "                                                iterations=iterations, Tr_time=1, cm_time=1, trade_change=0.02, autarky_time=15000, pricing_algorithm='cpmu', \n",
    "                                                utility_algorithm='geometric', wage_algorithm='marginal_product', csv=False, plot=False)\n",
    "            \n",
    "            results[i,j,k,:] = production.flatten()\n",
    "        beta_test[i, j] = 0.5  # Reset the value after testing\n",
    "\n",
    "# Now, plotting the matrix of scatter plots to show the results\n",
    "fig = plt.figure(figsize=(10, 10))\n",
    "gs = GridSpec(n_countries, n_products, figure=fig)\n",
    "\n",
    "for i in range(n_countries):\n",
    "    for j in range(n_products):\n",
    "        ax = fig.add_subplot(gs[i, j])\n",
    "        for n in range(n_countries*n_products):\n",
    "            ax.scatter(value_range, results[i,j,:,n], label=f'Country {n // n_products}, Product {n % n_products}')\n",
    "        ax.set_title(f'Country {i}, Product {j}')\n",
    "        ax.set_xlabel('beta-{},{}'.format(i,j))\n",
    "        ax.set_ylabel('steady-state Production')\n",
    "        ax.axvline(x=0.5, c='k', ls='--')\n",
    "        ax.legend()\n",
    "\n",
    "plt.tight_layout()\n",
    "plt.show()\n",
    "fig.savefig('/rds/general/user/nk821/home/anaconda3/CCS/ABM/Gulden/vectorised_tests/plots/sensitivity_2x2_production_beta.png')"
   ]
  },
  {
   "cell_type": "markdown",
   "metadata": {},
   "source": [
    "# 1.6 Net exports - beta"
   ]
  },
  {
   "cell_type": "code",
   "execution_count": null,
   "metadata": {},
   "outputs": [],
   "source": [
    "import numpy as np\n",
    "import pandas as pd\n",
    "import pickle\n",
    "import random\n",
    "import sys, time\n",
    "from functions import production_function, regularise, wage_function, demand_function, innovate, generate_nested_matrix, visualize_multi_layer_trade_network, array_to_dataframe\n",
    "from tradeutils import doAllTrades\n",
    "from pricing import updatePricesAndConsume\n",
    "from tqdm import tqdm\n",
    "from agents_vec import gulden_vectorised\n",
    "import matplotlib.pyplot as plt\n",
    "from matplotlib.gridspec import GridSpec\n",
    "\n",
    "# Constants\n",
    "np.random.seed(1)\n",
    "case = '2x2'\n",
    "iterations = 2000\n",
    "n_countries = 2\n",
    "n_products = 2\n",
    "countries = ['{i}'.format(i=i) for i in range(n_countries)]\n",
    "products = ['{i}'.format(i=i) for i in range(n_products)]\n",
    "alpha = np.ones((n_countries, n_products)) * 0.5\n",
    "beta_test = np.ones((n_countries, n_products)) * 0.5\n",
    "A = np.ones((n_countries, n_products))\n",
    "share = np.ones(n_countries)\n",
    "citizens_per_nation= [100,100]\n",
    "\n",
    "# Parameters for the experiment\n",
    "value_range = np.linspace(0.01, 0.99, 50)  # Range of values to test for each element in A\n",
    "results = np.zeros((n_countries, n_products, len(value_range), n_countries*n_products))\n",
    "\n",
    "# Run the experiment\n",
    "for i in range(n_countries):\n",
    "    for j in range(n_products):\n",
    "        idx = i*n_products + j\n",
    "        original_value = alpha_test[i, j]\n",
    "        for k, value in enumerate(value_range):\n",
    "            beta_test[i, j] = value\n",
    "#             print(alph_test)\n",
    "            _,_,ss_exports,_,_ = gulden_vectorised(case='test_o', n_countries=n_countries, n_products=n_products, countries=countries, products=products, \n",
    "                                                citizens_per_nation=citizens_per_nation, A=A, alpha=alpha, beta=beta_test, share=share, \n",
    "                                                iterations=iterations, Tr_time=1, cm_time=1, trade_change=0.02, autarky_time=15000, pricing_algorithm='cpmu', \n",
    "                                                utility_algorithm='geometric', wage_algorithm='marginal_product', csv=False, plot=False)\n",
    "            \n",
    "            results[i,j,k,:] = ss_exports.flatten()\n",
    "        beta_test[i, j] = 0.5  # Reset the value after testing\n",
    "\n",
    "# Now, plotting the matrix of scatter plots to show the results\n",
    "fig = plt.figure(figsize=(10, 10))\n",
    "gs = GridSpec(n_countries, n_products, figure=fig)\n",
    "\n",
    "for i in range(n_countries):\n",
    "    for j in range(n_products):\n",
    "        ax = fig.add_subplot(gs[i, j])\n",
    "        for n in range(n_countries*n_products):\n",
    "            ax.scatter(value_range, results[i,j,:,n], label=f'Country {n // n_products}, Product {n % n_products}')\n",
    "        ax.set_title(f'Country {i}, Product {j}')\n",
    "        ax.set_xlabel('beta-{},{}'.format(i,j))\n",
    "        ax.set_ylabel('steady-state Exports')\n",
    "        ax.axvline(x=0.5, c='k', ls='--')\n",
    "        ax.legend()\n",
    "\n",
    "plt.tight_layout()\n",
    "plt.show()\n",
    "fig.savefig('/rds/general/user/nk821/home/anaconda3/CCS/ABM/Gulden/vectorised_tests/plots/sensitivity_2x2_exports_beta.png')"
   ]
  },
  {
   "cell_type": "markdown",
   "metadata": {},
   "source": [
    "# 2. Sensitivity Analysis: 3x3\n"
   ]
  },
  {
   "cell_type": "markdown",
   "metadata": {},
   "source": [
    "# 2.1 Net Exports - A"
   ]
  },
  {
   "cell_type": "code",
   "execution_count": null,
   "metadata": {},
   "outputs": [],
   "source": [
    "import numpy as np\n",
    "import pandas as pd\n",
    "import pickle\n",
    "import random\n",
    "import sys, time\n",
    "from functions import production_function, regularise, wage_function, demand_function, innovate, generate_nested_matrix, visualize_multi_layer_trade_network, array_to_dataframe\n",
    "from tradeutils import doAllTrades\n",
    "from pricing import updatePricesAndConsume\n",
    "from tqdm import tqdm\n",
    "from agents_vec import gulden_vectorised\n",
    "import matplotlib.pyplot as plt\n",
    "from matplotlib.gridspec import GridSpec\n",
    "\n",
    "# Constants\n",
    "np.random.seed(1)\n",
    "case = '3x3'\n",
    "iterations = 2000\n",
    "n_countries = 3\n",
    "n_products = 3\n",
    "countries = ['{i}'.format(i=i) for i in range(n_countries)]\n",
    "products = ['{i}'.format(i=i) for i in range(n_products)]\n",
    "alpha = np.ones((n_countries, n_products)) * 0.5\n",
    "beta = np.ones((n_countries, n_products)) * 0.5\n",
    "A_test = np.ones((n_countries, n_products))\n",
    "share = np.ones(n_countries)\n",
    "citizens_per_nation= [100,100,100]\n",
    "\n",
    "# Parameters for the experiment\n",
    "value_range = np.linspace(0.01, 2.0, 50)  # Range of values to test for each element in A\n",
    "results = np.zeros((n_countries, n_products, len(value_range), n_countries*n_products))\n",
    "\n",
    "# Run the experiment\n",
    "for i in range(n_countries):\n",
    "    for j in range(n_products):\n",
    "        idx = i*n_products + j\n",
    "        original_value = A_test[i, j]\n",
    "        for k, value in enumerate(value_range):\n",
    "            A_test[i, j] = value\n",
    "            print(A_test)\n",
    "            _,_,ss_exports,_,_ = gulden_vectorised(case='test_o', n_countries=n_countries, n_products=n_products, countries=countries, products=products, \n",
    "                                                citizens_per_nation=citizens_per_nation, A=A_test, alpha=alpha, beta=beta, share=share, \n",
    "                                                iterations=iterations, Tr_time=1, cm_time=1, trade_change=0.02, autarky_time=15000, pricing_algorithm='cpmu', \n",
    "                                                utility_algorithm='geometric', wage_algorithm='marginal_product', csv=False, plot=False)\n",
    "            \n",
    "            results[i,j,k,:] = ss_exports.flatten()\n",
    "        A_test[i, j] = 1  # Reset the value after testing\n",
    "\n",
    "# Now, plotting the matrix of scatter plots to show the results\n",
    "fig = plt.figure(figsize=(10, 10))\n",
    "gs = GridSpec(n_countries, n_products, figure=fig)\n",
    "\n",
    "for i in range(n_countries):\n",
    "    for j in range(n_products):\n",
    "        ax = fig.add_subplot(gs[i, j])\n",
    "        for n in range(n_countries*n_products):\n",
    "            ax.scatter(value_range, results[i,j,:,n], label=f'Country {n // n_products}, Product {n % n_products}')\n",
    "        ax.set_title(f'Country {i}, Product {j}')\n",
    "        ax.set_xlabel('Value of A element')\n",
    "        ax.set_ylabel('steady-state Exports')\n",
    "        ax.legend()\n",
    "\n",
    "plt.tight_layout()\n",
    "plt.show()\n",
    "fig.savefig('/rds/general/user/nk821/home/anaconda3/CCS/ABM/Gulden/vectorised_tests/plots/sensitivity_3x3_exports.png')"
   ]
  },
  {
   "cell_type": "markdown",
   "metadata": {},
   "source": [
    "# 2.2 Total Production - A"
   ]
  },
  {
   "cell_type": "code",
   "execution_count": null,
   "metadata": {},
   "outputs": [],
   "source": [
    "import numpy as np\n",
    "import pandas as pd\n",
    "import pickle\n",
    "import random\n",
    "import sys, time\n",
    "from functions import production_function, regularise, wage_function, demand_function, innovate, generate_nested_matrix, visualize_multi_layer_trade_network, array_to_dataframe\n",
    "from tradeutils import doAllTrades\n",
    "from pricing import updatePricesAndConsume\n",
    "from tqdm import tqdm\n",
    "from agents_vec import gulden_vectorised\n",
    "import matplotlib.pyplot as plt\n",
    "from matplotlib.gridspec import GridSpec\n",
    "\n",
    "# Constants\n",
    "np.random.seed(1)\n",
    "case = '3x3'\n",
    "iterations = 2000\n",
    "n_countries = 3\n",
    "n_products = 3\n",
    "countries = ['{i}'.format(i=i) for i in range(n_countries)]\n",
    "products = ['{i}'.format(i=i) for i in range(n_products)]\n",
    "alpha = np.ones((n_countries, n_products)) * 0.5\n",
    "beta = np.ones((n_countries, n_products)) * 0.5\n",
    "A_test = np.ones((n_countries, n_products))\n",
    "share = np.ones(n_countries)\n",
    "citizens_per_nation= [100,100,100]\n",
    "\n",
    "# Parameters for the experiment\n",
    "value_range = np.linspace(0.01, 2.0, 50)  # Range of values to test for each element in A\n",
    "results = np.zeros((n_countries, n_products, len(value_range), n_countries*n_products))\n",
    "\n",
    "# Run the experiment\n",
    "for i in range(n_countries):\n",
    "    for j in range(n_products):\n",
    "        idx = i*n_products + j\n",
    "        original_value = A_test[i, j]\n",
    "        for k, value in enumerate(value_range):\n",
    "            A_test[i, j] = value\n",
    "            print(A_test)\n",
    "            production,_,_,_,_ = gulden_vectorised(case='test_o', n_countries=n_countries, n_products=n_products, countries=countries, products=products, \n",
    "                                                citizens_per_nation=citizens_per_nation, A=A_test, alpha=alpha, beta=beta, share=share, \n",
    "                                                iterations=iterations, Tr_time=1, cm_time=1, trade_change=0.02, autarky_time=15000, pricing_algorithm='cpmu', \n",
    "                                                utility_algorithm='geometric', wage_algorithm='marginal_product', csv=False, plot=False)\n",
    "            \n",
    "            results[i,j,k,:] = production.flatten()\n",
    "        A_test[i, j] = 1  # Reset the value after testing\n",
    "\n",
    "# Now, plotting the matrix of scatter plots to show the results\n",
    "fig = plt.figure(figsize=(10, 10))\n",
    "gs = GridSpec(n_countries, n_products, figure=fig)\n",
    "\n",
    "for i in range(n_countries):\n",
    "    for j in range(n_products):\n",
    "        ax = fig.add_subplot(gs[i, j])\n",
    "        for n in range(n_countries*n_products):\n",
    "            ax.scatter(value_range, results[i,j,:,n], label=f'Country {n // n_products}, Product {n % n_products}')\n",
    "        ax.set_title(f'Country {i}, Product {j}')\n",
    "        ax.set_xlabel('Value of A element')\n",
    "        ax.set_ylabel('steady-state Production')\n",
    "        ax.legend()\n",
    "\n",
    "plt.tight_layout()\n",
    "plt.show()\n",
    "fig.savefig('/rds/general/user/nk821/home/anaconda3/CCS/ABM/Gulden/vectorised_tests/plots/sensitivity_3x3_production.png')"
   ]
  },
  {
   "cell_type": "code",
   "execution_count": null,
   "metadata": {},
   "outputs": [],
   "source": []
  }
 ],
 "metadata": {
  "kernelspec": {
   "display_name": "networks",
   "language": "python",
   "name": "networks"
  },
  "language_info": {
   "codemirror_mode": {
    "name": "ipython",
    "version": 3
   },
   "file_extension": ".py",
   "mimetype": "text/x-python",
   "name": "python",
   "nbconvert_exporter": "python",
   "pygments_lexer": "ipython3",
   "version": "3.10.1"
  }
 },
 "nbformat": 4,
 "nbformat_minor": 2
}
